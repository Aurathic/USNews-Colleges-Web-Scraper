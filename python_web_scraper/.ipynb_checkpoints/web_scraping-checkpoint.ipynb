{
 "cells": [
  {
   "cell_type": "markdown",
   "id": "7dc75bdb-b23b-4956-b935-fb9dfb6ace0f",
   "metadata": {},
   "source": [
    "In order to extract from the universities, you first need the URLS of all the universities. To do this:\n",
    "\n",
    "1. Go to [the US News list of national universities](https://www.usnews.com/best-colleges/rankings/national-universities). \n",
    "2. Open the JavaScript console (`Ctrl` `Shift` `I`, then click on the 'Console' tab)\n",
    "3. Paste in the following code: `a = document.querySelector('button[class*=\"LoadMoreWrapper\"]'); window.setInterval(() => a.click(), 1000)`, and press enter. This will continue to load more universities on the web page.\n",
    "4. Wait for a minute or so, until the page stops loading new universities.\n",
    "5. Save the web page (`Ctrl` `S`) into this folder.\n",
    "\n",
    "I've already done these steps and saved it here."
   ]
  },
  {
   "cell_type": "markdown",
   "id": "cfe3f22b-955d-458c-a177-f49d2b18a3e0",
   "metadata": {},
   "source": [
    "Now, we need to extract the URLs from this page. To do this, we'll use BeautifulSoup."
   ]
  },
  {
   "cell_type": "code",
   "execution_count": 11,
   "id": "ee57cd27-490a-4146-a7c7-be457dccb14e",
   "metadata": {},
   "outputs": [],
   "source": [
    "from bs4 import BeautifulSoup\n",
    "\n",
    "html_doc = open(\"2022 Best National Universities US News Rankings.htm\", encoding=\"utf8\")\n",
    "soup = BeautifulSoup(html_doc, 'html.parser')"
   ]
  },
  {
   "cell_type": "code",
   "execution_count": 12,
   "id": "b475dd67-45c8-49d1-95de-b78ee76279f8",
   "metadata": {},
   "outputs": [
    {
     "name": "stdout",
     "output_type": "stream",
     "text": [
      "['https://www.usnews.com/best-colleges/princeton-university-2627', 'https://www.usnews.com/best-colleges/columbia-university-2707', 'https://www.usnews.com/best-colleges/harvard-university-2155', 'https://www.usnews.com/best-colleges/massachusetts-institute-of-technology-2178', 'https://www.usnews.com/best-colleges/yale-university-1426', 'https://www.usnews.com/best-colleges/stanford-university-1305', 'https://www.usnews.com/best-colleges/university-of-chicago-1774', 'https://www.usnews.com/best-colleges/university-of-pennsylvania-3378', 'https://www.usnews.com/best-colleges/california-institute-of-technology-1131', 'https://www.usnews.com/best-colleges/duke-university-2920']\n"
     ]
    }
   ],
   "source": [
    "anchors = soup.select('a[class*=\"card-name\"]')\n",
    "links = list(map(lambda x: x.get('href'), anchors))\n",
    "print(links[:10])"
   ]
  },
  {
   "cell_type": "markdown",
   "id": "3e003aff-31df-4dc4-8ce9-e047814bd1bd",
   "metadata": {},
   "source": [
    "Now we have all of the university links, we need to go individually through each one, request the various sub-pages from the server, then extract the info into a dataframe."
   ]
  },
  {
   "cell_type": "code",
   "execution_count": 100,
   "id": "c4bf4dd8-3dfd-4cb3-be8f-ee4f8e8a57fc",
   "metadata": {},
   "outputs": [],
   "source": [
    "import requests\n",
    "\n",
    "url = links[0] + \"/academics\"\n",
    "agent = {\"User-Agent\":'Mozilla/5.0'}\n",
    "response = requests.get(url, headers = agent)\n",
    "soup = BeautifulSoup(response.text, 'html.parser')"
   ]
  },
  {
   "cell_type": "code",
   "execution_count": 144,
   "id": "9aac7ff4-6cf0-42c6-92f1-9f547dd4a5e8",
   "metadata": {},
   "outputs": [
    {
     "name": "stdout",
     "output_type": "stream",
     "text": [
      "Alumni starting salaries by major ::: UNLOCK WITH COMPASS UNLOCK WITH COMPASS\n",
      "Minors ::: UNLOCK WITH COMPASS UNLOCK WITH COMPASS\n",
      "Degrees offered ::: Bachelor's, Master's, Doctorate - research/scholarship\n",
      "Combined-degree programs ::: N/A\n",
      "Online bachelor's degree program offered ::: No\n",
      "Student participation in special study options ::: UNLOCK WITH COMPASS UNLOCK WITH COMPASS\n",
      "Qualified undergraduate students may take graduate-level classes ::: UNLOCK WITH COMPASS UNLOCK WITH COMPASS\n",
      "Student-faculty ratio ::: 4:1\n",
      "General education/core curriculum required ::: Yes\n",
      "Total faculty ::: UNLOCK WITH COMPASS UNLOCK WITH COMPASS\n",
      "Minority ::: UNLOCK WITH COMPASS UNLOCK WITH COMPASS\n",
      "International student retention rate ::: UNLOCK WITH COMPASS UNLOCK WITH COMPASS\n",
      "Graduation rates ::: UNLOCK WITH COMPASS UNLOCK WITH COMPASS\n",
      "Enrolled in continuing education ::: UNLOCK WITH COMPASS UNLOCK WITH COMPASS\n"
     ]
    }
   ],
   "source": [
    "def get_data_rows(soup_obj):\n",
    "    datarows = soup_obj.select('div[class*=\"DataRow\"]:not([class*=\"datarow-table\"]):not([class*=\"pie-chart\"])')\n",
    "    # Exclude those with class 'pie-chart' or 'datarow-table', which are dealt with in different functions\n",
    "    for d in datarows:\n",
    "        if len(d.contents) == 2 and d.parent.name != \"span\":\n",
    "            # don't include things with 'span' parent because those are list elements\n",
    "            # and are captured in get_truncated_data_table\n",
    "            print(d.contents[0].text + \" ::: \" + d.contents[1].text)\n",
    "            \n",
    "get_data_rows(soup)"
   ]
  },
  {
   "cell_type": "code",
   "execution_count": 119,
   "id": "aa375fbf-e8db-415a-b2d8-5b6cbed75b1b",
   "metadata": {},
   "outputs": [],
   "source": [
    "def get_rankings(soup_obj):\n",
    "    #rankrows = soup.select('ul[class*=\"BadgeList\"]')\n",
    "    rank_rows = soup_obj.select('li[class*=\"BadgeList\"]> div:nth-child(2)')\n",
    "    for r in rank_rows:\n",
    "        x = r.select('div:nth-child(1) > a > strong')\n",
    "        if len(x) >= 2:\n",
    "            print(x[0].text + \":::\" + x[1].text)\n",
    "            \n",
    "get_rankings(soup)"
   ]
  },
  {
   "cell_type": "code",
   "execution_count": 117,
   "id": "1586db79-ca6a-4248-98e9-fb9584749384",
   "metadata": {},
   "outputs": [
    {
     "name": "stdout",
     "output_type": "stream",
     "text": [
      "Ten most popular majors for 2020 graduates.Social Sciences :::  20%\n",
      "Ten most popular majors for 2020 graduates.Engineering :::  15%\n",
      "Ten most popular majors for 2020 graduates.Computer and Information Sciences and Support Services :::  12%\n",
      "Ten most popular majors for 2020 graduates.Biological and Biomedical Sciences :::  10%\n",
      "Ten most popular majors for 2020 graduates.Public Administration and Social Service Professions :::  9%\n",
      "Ten most popular majors for 2020 graduates.Physical Sciences :::  7%\n",
      "Ten most popular majors for 2020 graduates.History :::  6%\n",
      "Ten most popular majors for 2020 graduates.Foreign Languages, Literatures, and Linguistics :::  4%\n",
      "Ten most popular majors for 2020 graduates.English Language and Literature/Letters :::  3%\n",
      "Ten most popular majors for 2020 graduates.Philosophy and Religious Studies :::  3%\n"
     ]
    }
   ],
   "source": [
    "def get_truncated_data_tables(soup_obj):\n",
    "    tables = soup_obj.select('div[class*=\"datarow-table truncated\"]')\n",
    "    for t in tables:\n",
    "        table_name = t.select('p')[0].text\n",
    "        for s in t.select('div[class*=\"DataRow__Row\"]'):\n",
    "            x = s.contents\n",
    "            if len(x) == 2:\n",
    "                print(table_name + \".\" + x[0].text + \" ::: \" + x[1].text)\n",
    "\n",
    "get_truncated_data_tables(soup)"
   ]
  },
  {
   "cell_type": "code",
   "execution_count": 140,
   "id": "f2b479ae-b54d-460d-ad42-2ba593c7314a",
   "metadata": {},
   "outputs": [
    {
     "name": "stdout",
     "output_type": "stream",
     "text": [
      "Full-time faculty gender distribution.Male ::: 63.5\n",
      "Full-time faculty gender distribution.Female ::: 36.5\n",
      "---\n",
      "Part-time faculty gender distribution.Male ::: 54.8\n",
      "Part-time faculty gender distribution.Female ::: 45.2\n",
      "---\n",
      "Class sizes.Classes with fewer than 20 students ::: 77.6\n",
      "Class sizes.20-49 ::: 13.5\n",
      "Class sizes.50 or more ::: 9\n",
      "---\n"
     ]
    }
   ],
   "source": [
    "def get_bar_charts(soup_obj):\n",
    "    bar_charts = soup_obj.select('div[class*=\"pie-chart\"]') # Yes, all the bar charts are labelled as pie charts\n",
    "    for b in bar_charts:\n",
    "        bar_chart_title = b.select('p')[0].text\n",
    "        for l in b.select('div[class*=\"BarChartStacked__LegendWrapper\"] > div[class*=\"BarChartStacked__Legend\"] > div'):\n",
    "            print(bar_chart_title + \".\" + l.contents[1] + \" ::: \" + l.b.contents[0])\n",
    "        print(\"---\")\n",
    "\n",
    "get_bar_charts(soup)"
   ]
  },
  {
   "cell_type": "code",
   "execution_count": null,
   "id": "31e1add8-c7d8-4fd8-ab44-426184dab7ce",
   "metadata": {},
   "outputs": [],
   "source": [
    "def get_full_tables(soup_obj):\n",
    "    pass"
   ]
  }
 ],
 "metadata": {
  "kernelspec": {
   "display_name": "Python 3 (ipykernel)",
   "language": "python",
   "name": "python3"
  },
  "language_info": {
   "codemirror_mode": {
    "name": "ipython",
    "version": 3
   },
   "file_extension": ".py",
   "mimetype": "text/x-python",
   "name": "python",
   "nbconvert_exporter": "python",
   "pygments_lexer": "ipython3",
   "version": "3.9.7"
  }
 },
 "nbformat": 4,
 "nbformat_minor": 5
}
