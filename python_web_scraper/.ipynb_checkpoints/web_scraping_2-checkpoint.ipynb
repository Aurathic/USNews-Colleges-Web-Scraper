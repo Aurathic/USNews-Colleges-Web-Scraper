{
 "cells": [
  {
   "cell_type": "markdown",
   "id": "96193f00-b3c2-4260-bba2-4f87c53a8ae6",
   "metadata": {},
   "source": [
    "With the importance placed on getting a college degree nowadays ([65 percent of workers have at least some postsecondary education](https://cew.georgetown.edu/cew-reports/americas-divided-recovery/)), students more than ever need to focus on getting into colleges that will best help them achieve their goals. Sites like (US News)[https://www.usnews.com/best-colleges] have become the de-facto standard for students trying to search through hundreds of universities and deciding which is the best fit. Specifically, US News' ranking system is given enormous weight, influencing (how schools are perceived by the general public)[https://www.forbes.com/sites/robertzafft/2021/12/07/us-news-business-school-rankings-crucial-but-meaningless/].\n",
    "\n"
   ]
  },
  {
   "cell_type": "markdown",
   "id": "dc9396ed-bfce-4dd2-8cd8-82123396a41d",
   "metadata": {},
   "source": [
    "## Part 1: Web Scraping\n",
    "After spending 8 hours or so writing a web scraper to get all the components from the website, it turns out that each page provides JSON objects that contain all the data in a much easier to extract format."
   ]
  },
  {
   "cell_type": "code",
   "execution_count": 132,
   "id": "a95f4cd5-3fe1-4003-9841-94f29aa36e47",
   "metadata": {},
   "outputs": [],
   "source": [
    "from bs4 import BeautifulSoup\n",
    "\n",
    "html_doc = open(\"2022 Best National Universities US News Rankings.htm\", encoding=\"utf8\")\n",
    "soup = BeautifulSoup(html_doc, 'html.parser')"
   ]
  },
  {
   "cell_type": "code",
   "execution_count": 133,
   "id": "96db69bf-a223-4fc5-8c26-fcef9fb8f57e",
   "metadata": {},
   "outputs": [
    {
     "name": "stdout",
     "output_type": "stream",
     "text": [
      "['https://www.usnews.com/best-colleges/princeton-university-2627', 'https://www.usnews.com/best-colleges/columbia-university-2707', 'https://www.usnews.com/best-colleges/harvard-university-2155', 'https://www.usnews.com/best-colleges/massachusetts-institute-of-technology-2178', 'https://www.usnews.com/best-colleges/yale-university-1426', 'https://www.usnews.com/best-colleges/stanford-university-1305', 'https://www.usnews.com/best-colleges/university-of-chicago-1774', 'https://www.usnews.com/best-colleges/university-of-pennsylvania-3378', 'https://www.usnews.com/best-colleges/california-institute-of-technology-1131', 'https://www.usnews.com/best-colleges/duke-university-2920']\n",
      "392\n"
     ]
    }
   ],
   "source": [
    "anchors = soup.select('a[class*=\"card-name\"]')\n",
    "links = list(map(lambda x: x.get('href'), anchors))\n",
    "print(links[:10])\n",
    "print(len(links))"
   ]
  },
  {
   "cell_type": "code",
   "execution_count": 65,
   "id": "89d0b8bd-404f-456c-8479-315c6f778189",
   "metadata": {},
   "outputs": [],
   "source": [
    "from bs4 import BeautifulSoup\n",
    "import requests\n",
    "import pandas as pd\n",
    "import json\n",
    "\n",
    "link = \"https://www.usnews.com/best-colleges/princeton-university-2627\"\n",
    "\n",
    "def get_soup_obj(link, subpage):\n",
    "    url = link + \"/\" + subpage\n",
    "    agent = {\"User-Agent\":'Mozilla/5.0'}\n",
    "    response = requests.get(url, headers = agent)\n",
    "    return BeautifulSoup(response.text, 'html.parser')\n",
    "\n",
    "soup = get_soup_obj(link, \"student-life\")"
   ]
  },
  {
   "cell_type": "markdown",
   "id": "2fee66b2-0161-4339-90c9-e73077e71755",
   "metadata": {},
   "source": [
    "Then, we look at the structure of the HTML files and find the line in the script containing the JSON object, and extract it:"
   ]
  },
  {
   "cell_type": "code",
   "execution_count": 140,
   "id": "317c4d0b-b1f9-4034-9345-1143ec0f5538",
   "metadata": {},
   "outputs": [],
   "source": [
    "def get_json_from_soup(soup_obj):\n",
    "    script_json_line = soup_obj.find_all(\"script\")[-2].contents[0].split(\"\\n\")[4]\n",
    "    json_obj_str = script_json_line[script_json_line.find(\"{\"):-1].replace(\"undefined\",\"null\")\n",
    "    json_obj = json.loads(json_obj_str)\n",
    "        \n",
    "    base_key = 'src/containers/pages/education/higher-education/colleges/profile'\n",
    "    json_data = json_obj.get(f'{base_key}/overview.js',False) or \\\n",
    "                json_obj.get(f'{base_key}/generic.js',False) or \\\n",
    "                json_obj.get(f'{base_key}/rankings.js',None)\n",
    "    \n",
    "    #print(\"json_data: \" + str(json_data)[:20])\n",
    "    json_data = json_data['data']['context']['data']['page']\n",
    "    return json_data\n",
    "    #return {'schoolData': json_data['schoolData'], \n",
    "    #        'fields': json_data['fields'],\n",
    "    #        'schoolDetails': json_data['schoolDetails']}\n",
    "\n",
    "#print(get_json_from_soup(get_soup_obj(link,\"\")))"
   ]
  },
  {
   "cell_type": "markdown",
   "id": "ab74de37-43cc-4e75-b1a5-ad67696d3c4e",
   "metadata": {},
   "source": [
    "The 'fields' data indicates how the data is structured, the 'schoolData' field provides the values, and 'schoolDetails' provides basic info not in 'schoolData'.\n",
    "\n",
    "We can use these methods to get all the data from every university and put it in a single JSON object, with the university name as the key\""
   ]
  },
  {
   "cell_type": "code",
   "execution_count": null,
   "id": "8f71b103-eb60-4ea5-8875-6f8544f71532",
   "metadata": {},
   "outputs": [],
   "source": [
    "all_univ_json_data = {}\n",
    "pages = [\"\", \"overall-rankings\", \"applying\", \"academics\", \"student-life\", \"paying\", \"campus-info\"]\n",
    "for link in links:\n",
    "    json_out = {'fields': {}, 'data': {}}\n",
    "    for page in pages:\n",
    "        json_data_fields = get_json_from_soup(get_soup_obj(link,page))\n",
    "        #print(page + \"::\" + str(json_data_fields)[:20])\n",
    "        json_out['data'].update(json_data_fields['schoolData'])\n",
    "        json_out['fields'].update(json_data_fields['fields'])\n",
    "    json_out['details'] = get_json_from_soup(get_soup_obj(link,\"\"))['schoolDetails']\n",
    "    name = json_out['details']['displayName']\n",
    "    all_univ_json_data[name] = json_out\n",
    "    print(name)"
   ]
  },
  {
   "cell_type": "code",
   "execution_count": 155,
   "id": "48beacde-947b-4a94-bb95-a15a762686c1",
   "metadata": {},
   "outputs": [],
   "source": [
    "with open('all_univ.json', 'w') as outfile:\n",
    "    json.dump(all_univ_json_data, outfile)"
   ]
  },
  {
   "cell_type": "markdown",
   "id": "9c8bdea4-350d-4c57-b8d9-a420f6dce73f",
   "metadata": {},
   "source": [
    "## Part 2: Analysis"
   ]
  },
  {
   "cell_type": "code",
   "execution_count": 157,
   "id": "364b14c2-0051-4168-b799-c2cacb5daffc",
   "metadata": {},
   "outputs": [],
   "source": [
    "# Read in the university data\n",
    "with open('all_univ.json', 'r') as infile:\n",
    "    all_univ_json_data = json.load(infile)"
   ]
  },
  {
   "cell_type": "code",
   "execution_count": 194,
   "id": "4c004283-ba11-4571-a3ce-ffbda21b87f3",
   "metadata": {},
   "outputs": [
    {
     "ename": "KeyError",
     "evalue": "'payscaleOverallStarting'",
     "output_type": "error",
     "traceback": [
      "\u001b[1;31m---------------------------------------------------------------------------\u001b[0m",
      "\u001b[1;31mKeyError\u001b[0m                                  Traceback (most recent call last)",
      "\u001b[1;32m~\\AppData\\Local\\Temp/ipykernel_23800/3403171798.py\u001b[0m in \u001b[0;36m<module>\u001b[1;34m\u001b[0m\n\u001b[0;32m     27\u001b[0m             \u001b[1;32melse\u001b[0m\u001b[1;33m:\u001b[0m\u001b[1;33m\u001b[0m\u001b[1;33m\u001b[0m\u001b[0m\n\u001b[0;32m     28\u001b[0m                 \u001b[1;32mif\u001b[0m \u001b[0mfield\u001b[0m\u001b[1;33m[\u001b[0m\u001b[1;34m'fieldName'\u001b[0m\u001b[1;33m]\u001b[0m \u001b[1;32mnot\u001b[0m \u001b[1;32min\u001b[0m \u001b[0mnested_fields\u001b[0m\u001b[1;33m:\u001b[0m\u001b[1;33m\u001b[0m\u001b[1;33m\u001b[0m\u001b[0m\n\u001b[1;32m---> 29\u001b[1;33m                     \u001b[0muniv_data\u001b[0m\u001b[1;33m[\u001b[0m\u001b[0mfield\u001b[0m\u001b[1;33m[\u001b[0m\u001b[1;34m'fieldName'\u001b[0m\u001b[1;33m]\u001b[0m\u001b[1;33m]\u001b[0m \u001b[1;33m=\u001b[0m \u001b[0mget_data_value\u001b[0m\u001b[1;33m(\u001b[0m\u001b[0muniv\u001b[0m\u001b[1;33m,\u001b[0m \u001b[0mfield\u001b[0m\u001b[1;33m[\u001b[0m\u001b[1;34m'fieldName'\u001b[0m\u001b[1;33m]\u001b[0m\u001b[1;33m)\u001b[0m\u001b[1;33m\u001b[0m\u001b[1;33m\u001b[0m\u001b[0m\n\u001b[0m\u001b[0;32m     30\u001b[0m     \u001b[0mprint\u001b[0m\u001b[1;33m(\u001b[0m\u001b[0muniv_data\u001b[0m\u001b[1;33m)\u001b[0m\u001b[1;33m\u001b[0m\u001b[1;33m\u001b[0m\u001b[0m\n",
      "\u001b[1;32m~\\AppData\\Local\\Temp/ipykernel_23800/3403171798.py\u001b[0m in \u001b[0;36mget_data_value\u001b[1;34m(univ, field_name)\u001b[0m\n\u001b[0;32m      3\u001b[0m \u001b[1;33m\u001b[0m\u001b[0m\n\u001b[0;32m      4\u001b[0m \u001b[1;32mdef\u001b[0m \u001b[0mget_data_value\u001b[0m\u001b[1;33m(\u001b[0m\u001b[0muniv\u001b[0m\u001b[1;33m,\u001b[0m \u001b[0mfield_name\u001b[0m\u001b[1;33m)\u001b[0m\u001b[1;33m:\u001b[0m\u001b[1;33m\u001b[0m\u001b[1;33m\u001b[0m\u001b[0m\n\u001b[1;32m----> 5\u001b[1;33m     \u001b[0mkey\u001b[0m\u001b[1;33m[\u001b[0m\u001b[0mfield_name\u001b[0m\u001b[1;33m]\u001b[0m \u001b[1;33m=\u001b[0m \u001b[0muniv\u001b[0m\u001b[1;33m[\u001b[0m\u001b[1;34m'fields'\u001b[0m\u001b[1;33m]\u001b[0m\u001b[1;33m[\u001b[0m\u001b[0mfield_name\u001b[0m\u001b[1;33m]\u001b[0m\u001b[1;33m[\u001b[0m\u001b[1;34m'label'\u001b[0m\u001b[1;33m]\u001b[0m \u001b[1;31m# add data to key\u001b[0m\u001b[1;33m\u001b[0m\u001b[1;33m\u001b[0m\u001b[0m\n\u001b[0m\u001b[0;32m      6\u001b[0m     \u001b[1;32mreturn\u001b[0m \u001b[0muniv\u001b[0m\u001b[1;33m[\u001b[0m\u001b[1;34m'data'\u001b[0m\u001b[1;33m]\u001b[0m\u001b[1;33m[\u001b[0m\u001b[0mfield_name\u001b[0m\u001b[1;33m]\u001b[0m\u001b[1;33m[\u001b[0m\u001b[1;34m'rawValue'\u001b[0m\u001b[1;33m]\u001b[0m \u001b[1;32mif\u001b[0m \u001b[1;34m'rawValue'\u001b[0m \u001b[1;32min\u001b[0m \u001b[0muniv\u001b[0m\u001b[1;33m[\u001b[0m\u001b[1;34m'data'\u001b[0m\u001b[1;33m]\u001b[0m\u001b[1;33m[\u001b[0m\u001b[0mfield_name\u001b[0m\u001b[1;33m]\u001b[0m \u001b[1;32melse\u001b[0m \u001b[1;32mNone\u001b[0m\u001b[1;33m\u001b[0m\u001b[1;33m\u001b[0m\u001b[0m\n\u001b[0;32m      7\u001b[0m     \u001b[1;31m#print(f\"\\t\\t{subfield_label} ({field_data['fieldName']}): {subfield_data['rawValue']}\")\u001b[0m\u001b[1;33m\u001b[0m\u001b[1;33m\u001b[0m\u001b[0m\n",
      "\u001b[1;31mKeyError\u001b[0m: 'payscaleOverallStarting'"
     ]
    }
   ],
   "source": [
    "key = {} # map between field keys and readable labels\n",
    "nested_fields = set()\n",
    "\n",
    "def get_data_value(univ, field_name):\n",
    "    key[field_name] = univ['fields'][field_name]['label'] # add data to key\n",
    "    return univ['data'][field_name]['rawValue'] if 'rawValue' in univ['data'][field_name] else None\n",
    "    #print(f\"\\t\\t{subfield_label} ({field_data['fieldName']}): {subfield_data['rawValue']}\")\n",
    "\n",
    "#def get_field_value(univ, field):\n",
    "    \n",
    "    \n",
    "univ_data = {}\n",
    "for univ in list(all_univ_json_data.values())[:1]:\n",
    "    #univ_data = {}\n",
    "    for field in univ['fields'].values():\n",
    "        if field['isPublic']: \n",
    "            if 'subFields' in field:\n",
    "                subfields = {}\n",
    "                for subfield in field['subFields']:\n",
    "                    if \"fields\" in subfield:\n",
    "                        for subfield_field in subfield['fields']:\n",
    "                            nested_fields.add(subfield_field)\n",
    "                            subfields[subfield_field] = get_data_value(univ, subfield_field)\n",
    "                    elif \"field\" in subfield:\n",
    "                        nested_fields.add(subfield['field'])\n",
    "                        subfields[subfield_field] = get_data_value(univ, subfield['field'])\n",
    "                get_data_value(univ, field['fieldName'])\n",
    "                univ_data[field['fieldName']] = subfields\n",
    "            else:\n",
    "                if field['fieldName'] not in nested_fields:\n",
    "                    univ_data[field['fieldName']] = get_data_value(univ, field['fieldName'])\n",
    "    print(univ_data)"
   ]
  },
  {
   "cell_type": "code",
   "execution_count": null,
   "id": "c30d1058-db14-44d5-8599-1bd83ce25bd5",
   "metadata": {},
   "outputs": [],
   "source": []
  }
 ],
 "metadata": {
  "kernelspec": {
   "display_name": "Python 3 (ipykernel)",
   "language": "python",
   "name": "python3"
  },
  "language_info": {
   "codemirror_mode": {
    "name": "ipython",
    "version": 3
   },
   "file_extension": ".py",
   "mimetype": "text/x-python",
   "name": "python",
   "nbconvert_exporter": "python",
   "pygments_lexer": "ipython3",
   "version": "3.9.7"
  }
 },
 "nbformat": 4,
 "nbformat_minor": 5
}
