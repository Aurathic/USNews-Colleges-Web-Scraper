{
 "cells": [
  {
   "cell_type": "markdown",
   "id": "96193f00-b3c2-4260-bba2-4f87c53a8ae6",
   "metadata": {},
   "source": [
    "With the importance placed on getting a college degree nowadays ([65 percent of workers have at least some postsecondary education](https://cew.georgetown.edu/cew-reports/americas-divided-recovery/)), students more than ever need to focus on getting into colleges that will best help them achieve their goals. Sites like (US News)[https://www.usnews.com/best-colleges] have become the de-facto standard for students trying to search through hundreds of universities and deciding which is the best fit. Specifically, US News' ranking system is given enormous weight, influencing (how schools are perceived by the general public)[https://www.forbes.com/sites/robertzafft/2021/12/07/us-news-business-school-rankings-crucial-but-meaningless/].\n",
    "\n"
   ]
  },
  {
   "cell_type": "markdown",
   "id": "dc9396ed-bfce-4dd2-8cd8-82123396a41d",
   "metadata": {},
   "source": [
    "## Part 1: Web Scraping\n",
    "After spending 8 hours or so writing a web scraper to get all the components from the website, it turns out that each page provides JSON objects that contain all the data in a much easier to extract format."
   ]
  },
  {
   "cell_type": "code",
   "execution_count": 132,
   "id": "a95f4cd5-3fe1-4003-9841-94f29aa36e47",
   "metadata": {},
   "outputs": [],
   "source": [
    "from bs4 import BeautifulSoup\n",
    "\n",
    "html_doc = open(\"2022 Best National Universities US News Rankings.htm\", encoding=\"utf8\")\n",
    "soup = BeautifulSoup(html_doc, 'html.parser')"
   ]
  },
  {
   "cell_type": "code",
   "execution_count": 133,
   "id": "96db69bf-a223-4fc5-8c26-fcef9fb8f57e",
   "metadata": {},
   "outputs": [
    {
     "name": "stdout",
     "output_type": "stream",
     "text": [
      "['https://www.usnews.com/best-colleges/princeton-university-2627', 'https://www.usnews.com/best-colleges/columbia-university-2707', 'https://www.usnews.com/best-colleges/harvard-university-2155', 'https://www.usnews.com/best-colleges/massachusetts-institute-of-technology-2178', 'https://www.usnews.com/best-colleges/yale-university-1426', 'https://www.usnews.com/best-colleges/stanford-university-1305', 'https://www.usnews.com/best-colleges/university-of-chicago-1774', 'https://www.usnews.com/best-colleges/university-of-pennsylvania-3378', 'https://www.usnews.com/best-colleges/california-institute-of-technology-1131', 'https://www.usnews.com/best-colleges/duke-university-2920']\n",
      "392\n"
     ]
    }
   ],
   "source": [
    "anchors = soup.select('a[class*=\"card-name\"]')\n",
    "links = list(map(lambda x: x.get('href'), anchors))\n",
    "print(links[:10])\n",
    "print(len(links))"
   ]
  },
  {
   "cell_type": "code",
   "execution_count": 65,
   "id": "89d0b8bd-404f-456c-8479-315c6f778189",
   "metadata": {},
   "outputs": [],
   "source": [
    "from bs4 import BeautifulSoup\n",
    "import requests\n",
    "import pandas as pd\n",
    "import json\n",
    "\n",
    "link = \"https://www.usnews.com/best-colleges/princeton-university-2627\"\n",
    "\n",
    "def get_soup_obj(link, subpage):\n",
    "    url = link + \"/\" + subpage\n",
    "    agent = {\"User-Agent\":'Mozilla/5.0'}\n",
    "    response = requests.get(url, headers = agent)\n",
    "    return BeautifulSoup(response.text, 'html.parser')\n",
    "\n",
    "soup = get_soup_obj(link, \"student-life\")"
   ]
  },
  {
   "cell_type": "markdown",
   "id": "2fee66b2-0161-4339-90c9-e73077e71755",
   "metadata": {},
   "source": [
    "Then, we look at the structure of the HTML files and find the line in the script containing the JSON object, and extract it:"
   ]
  },
  {
   "cell_type": "code",
   "execution_count": 140,
   "id": "317c4d0b-b1f9-4034-9345-1143ec0f5538",
   "metadata": {},
   "outputs": [],
   "source": [
    "def get_json_from_soup(soup_obj):\n",
    "    script_json_line = soup_obj.find_all(\"script\")[-2].contents[0].split(\"\\n\")[4]\n",
    "    json_obj_str = script_json_line[script_json_line.find(\"{\"):-1].replace(\"undefined\",\"null\")\n",
    "    json_obj = json.loads(json_obj_str)\n",
    "        \n",
    "    base_key = 'src/containers/pages/education/higher-education/colleges/profile'\n",
    "    json_data = json_obj.get(f'{base_key}/overview.js',False) or \\\n",
    "                json_obj.get(f'{base_key}/generic.js',False) or \\\n",
    "                json_obj.get(f'{base_key}/rankings.js',None)\n",
    "    \n",
    "    #print(\"json_data: \" + str(json_data)[:20])\n",
    "    json_data = json_data['data']['context']['data']['page']\n",
    "    return json_data\n",
    "    #return {'schoolData': json_data['schoolData'], \n",
    "    #        'fields': json_data['fields'],\n",
    "    #        'schoolDetails': json_data['schoolDetails']}\n",
    "\n",
    "#print(get_json_from_soup(get_soup_obj(link,\"\")))"
   ]
  },
  {
   "cell_type": "markdown",
   "id": "ab74de37-43cc-4e75-b1a5-ad67696d3c4e",
   "metadata": {},
   "source": [
    "The 'fields' data indicates how the data is structured, the 'schoolData' field provides the values, and 'schoolDetails' provides basic info not in 'schoolData'.\n",
    "\n",
    "We can use these methods to get all the data from every university and put it in a single JSON object, with the university name as the key."
   ]
  },
  {
   "cell_type": "code",
   "execution_count": null,
   "id": "8f71b103-eb60-4ea5-8875-6f8544f71532",
   "metadata": {},
   "outputs": [],
   "source": [
    "all_univ_json_data = {}\n",
    "pages = [\"\", \"overall-rankings\", \"applying\", \"academics\", \"student-life\", \"paying\", \"campus-info\"]\n",
    "for link in links:\n",
    "    json_out = {'fields': {}, 'data': {}}\n",
    "    for page in pages:\n",
    "        json_data_fields = get_json_from_soup(get_soup_obj(link,page))\n",
    "        #print(page + \"::\" + str(json_data_fields)[:20])\n",
    "        json_out['data'].update(json_data_fields['schoolData'])\n",
    "        json_out['fields'].update(json_data_fields['fields'])\n",
    "    json_out['details'] = get_json_from_soup(get_soup_obj(link,\"\"))['schoolDetails']\n",
    "    name = json_out['details']['displayName']\n",
    "    all_univ_json_data[name] = json_out\n",
    "    print(name)"
   ]
  },
  {
   "cell_type": "code",
   "execution_count": 155,
   "id": "48beacde-947b-4a94-bb95-a15a762686c1",
   "metadata": {},
   "outputs": [],
   "source": [
    "with open('all_univ.json', 'w') as outfile:\n",
    "    json.dump(all_univ_json_data, outfile)"
   ]
  },
  {
   "cell_type": "markdown",
   "id": "9c8bdea4-350d-4c57-b8d9-a420f6dce73f",
   "metadata": {},
   "source": [
    "### Part 1.2: Data Compression"
   ]
  },
  {
   "cell_type": "code",
   "execution_count": 5,
   "id": "364b14c2-0051-4168-b799-c2cacb5daffc",
   "metadata": {},
   "outputs": [],
   "source": [
    "import json\n",
    "\n",
    "# Read in the university data\n",
    "with open('all_univ.json', 'r') as infile:\n",
    "    all_univ_json_data = json.load(infile)"
   ]
  },
  {
   "cell_type": "markdown",
   "id": "3e82d094-0ac8-4625-b379-3a28f1aed1d3",
   "metadata": {},
   "source": [
    "There are a lot of unnecessary fields in this data that we can remove, to make our analysis life a lot easier."
   ]
  },
  {
   "cell_type": "code",
   "execution_count": null,
   "id": "4c004283-ba11-4571-a3ce-ffbda21b87f3",
   "metadata": {},
   "outputs": [],
   "source": [
    "nested_fields = set()\n",
    "\n",
    "def create_field_label_keys():\n",
    "    # Assumes that all of the possible data attributes are contained within the first university on the list\n",
    "    key = {}\n",
    "    # Iterate through fields, putting the labels and fieldNames into a dictionary for future reference\n",
    "    for field in all_univ_json_data['Princeton University']['fields'].values():\n",
    "        if 'fieldName' in field:\n",
    "            key[field['fieldName']] = field['label']\n",
    "    return key    \n",
    "    \n",
    "def get_data_value(univ, field_name):\n",
    "    return univ['data'][field_name]['rawValue'] if 'rawValue' in univ['data'][field_name] else None\n",
    "    #print(f\"\\t\\t{subfield_label} ({field_data['fieldName']}): {subfield_data['rawValue']}\")\n",
    "\n",
    "def get_field_value(univ, field):\n",
    "    if 'subFields' in field:\n",
    "        subfields = {}\n",
    "        for subfield in field['subFields']:\n",
    "            subfield_fields = subfield['fields'] if \"fields\" in subfield else [subfield['field']] \n",
    "            for subfield_field in subfield_fields:\n",
    "                nested_fields.add(subfield_field)\n",
    "                subfields[subfield_field] = get_data_value(univ, subfield_field)\n",
    "        return subfields\n",
    "    else:\n",
    "        if field['fieldName'] not in nested_fields:\n",
    "            return get_data_value(univ, field['fieldName'])\n",
    "\n",
    "# Returns a tuple; the first value is the actual data, the second is the additional part of the key mapping\n",
    "def get_details_info(univ):\n",
    "    univ_details = univ['details'].copy()\n",
    "    univ_details.pop(\"mainRank\")\n",
    "    univ_details.pop(\"crossWalk\")\n",
    "    keys = {}\n",
    "    ranks = {}\n",
    "    for rank_name, rank_data in univ_details['ranks'].items():\n",
    "        if rank_data['isPublic'] and not rank_data['locked']:\n",
    "            keys[rank_name] = rank_data['displayName']\n",
    "            ranks[rank_name] = rank_data['displayRank'][1:]\n",
    "    univ_details['ranks'] = ranks\n",
    "    return (univ_details, keys)\n",
    "\n",
    "univ_keys = create_field_label_keys() # map between field keys and readable labels\n",
    "\n",
    "all_univ_data = {}\n",
    "for name, univ in list(all_univ_json_data.items()):\n",
    "    univ_data = {}\n",
    "    for field in univ['fields'].values():\n",
    "        #print(f\"{field['label']}: {field['isPublic']}\")\n",
    "        if field['isPublic']: \n",
    "            univ_data[field['fieldName']] = get_field_value(univ, field)\n",
    "    # Add info from 'details'\n",
    "    details_data, details_keys = get_details_info(univ)\n",
    "    univ_keys.update(details_keys)\n",
    "    univ_data.update(details_data)\n",
    "    all_univ_data[name] = univ_data\n",
    "    print(name)"
   ]
  },
  {
   "cell_type": "code",
   "execution_count": 13,
   "id": "220e1c9a-752f-451b-8efb-252010a49db4",
   "metadata": {},
   "outputs": [],
   "source": [
    "with open('all_univ_compressed.json', 'w') as outfile:\n",
    "    json.dump(all_univ_data, outfile)\n",
    "with open('all_univ_compressed_key.json', 'w') as outfile:\n",
    "    json.dump(univ_keys, outfile)"
   ]
  },
  {
   "cell_type": "markdown",
   "id": "289f91d9-041d-4f51-bd09-c3fee4fa4990",
   "metadata": {},
   "source": [
    "For some reason, there are certain values (like the average salary of recent graduates) which are visible on the website but aren't in the data set; I'll just live with that for now."
   ]
  },
  {
   "cell_type": "markdown",
   "id": "ca8e6256-e2c8-496a-8e52-3219fe3f6fe2",
   "metadata": {},
   "source": [
    "## Part 2: Analysis"
   ]
  },
  {
   "cell_type": "markdown",
   "id": "e42ca549-66d0-467d-91b7-63265fb8ee2c",
   "metadata": {},
   "source": [
    "(Explain how US News ranking works)"
   ]
  },
  {
   "cell_type": "markdown",
   "id": "f468fa9c-2516-4b3c-b66b-adcf366d385d",
   "metadata": {},
   "source": [
    "First, let's ask a rather obvious question: does the ranking done by US News correlate with other metrics of success, like starting salary? Because, as previously mentioned, this scraper doesn't by itself get the data about average salary, I need to supplement this with another web scraper I wrote which directly reads from the webpage (link). "
   ]
  },
  {
   "cell_type": "code",
   "execution_count": 53,
   "id": "288fb94b-8561-46cd-bf9c-e6450a0ea691",
   "metadata": {},
   "outputs": [],
   "source": [
    "#!pip install ijson\n",
    "#import ijson\n",
    "import pandas as pd, numpy as np\n",
    "import seaborn as sns"
   ]
  },
  {
   "cell_type": "code",
   "execution_count": 24,
   "id": "c8bf100b-98b7-4c36-aed0-6cd8216cb3cb",
   "metadata": {},
   "outputs": [],
   "source": [
    "with open('all_univ_compressed.json', 'r') as infile:\n",
    "    all_univ_data = json.load(infile)"
   ]
  },
  {
   "cell_type": "code",
   "execution_count": 62,
   "id": "284b23fc-cfaf-4b07-8bd3-31449800fe1e",
   "metadata": {},
   "outputs": [
    {
     "data": {
      "text/html": [
       "<div>\n",
       "<style scoped>\n",
       "    .dataframe tbody tr th:only-of-type {\n",
       "        vertical-align: middle;\n",
       "    }\n",
       "\n",
       "    .dataframe tbody tr th {\n",
       "        vertical-align: top;\n",
       "    }\n",
       "\n",
       "    .dataframe thead th {\n",
       "        text-align: right;\n",
       "    }\n",
       "</style>\n",
       "<table border=\"1\" class=\"dataframe\">\n",
       "  <thead>\n",
       "    <tr style=\"text-align: right;\">\n",
       "      <th></th>\n",
       "      <th>name</th>\n",
       "      <th>score</th>\n",
       "      <th>medianSalary</th>\n",
       "    </tr>\n",
       "  </thead>\n",
       "  <tbody>\n",
       "    <tr>\n",
       "      <th>0</th>\n",
       "      <td>Princeton University</td>\n",
       "      <td>100.0</td>\n",
       "      <td>71300.0</td>\n",
       "    </tr>\n",
       "    <tr>\n",
       "      <th>1</th>\n",
       "      <td>Columbia University</td>\n",
       "      <td>97.0</td>\n",
       "      <td>67800.0</td>\n",
       "    </tr>\n",
       "    <tr>\n",
       "      <th>2</th>\n",
       "      <td>Harvard University</td>\n",
       "      <td>97.0</td>\n",
       "      <td>69000.0</td>\n",
       "    </tr>\n",
       "    <tr>\n",
       "      <th>3</th>\n",
       "      <td>Massachusetts Institute of Technology</td>\n",
       "      <td>97.0</td>\n",
       "      <td>82700.0</td>\n",
       "    </tr>\n",
       "    <tr>\n",
       "      <th>4</th>\n",
       "      <td>Yale University</td>\n",
       "      <td>96.0</td>\n",
       "      <td>65900.0</td>\n",
       "    </tr>\n",
       "    <tr>\n",
       "      <th>...</th>\n",
       "      <td>...</td>\n",
       "      <td>...</td>\n",
       "      <td>...</td>\n",
       "    </tr>\n",
       "    <tr>\n",
       "      <th>293</th>\n",
       "      <td>Portland State University</td>\n",
       "      <td>42.0</td>\n",
       "      <td>49300.0</td>\n",
       "    </tr>\n",
       "    <tr>\n",
       "      <th>294</th>\n",
       "      <td>South Dakota State University</td>\n",
       "      <td>42.0</td>\n",
       "      <td>50300.0</td>\n",
       "    </tr>\n",
       "    <tr>\n",
       "      <th>295</th>\n",
       "      <td>University of Hawaii at Hilo</td>\n",
       "      <td>42.0</td>\n",
       "      <td>44600.0</td>\n",
       "    </tr>\n",
       "    <tr>\n",
       "      <th>296</th>\n",
       "      <td>University of Puerto Rico--Rio Piedras</td>\n",
       "      <td>42.0</td>\n",
       "      <td>41800.0</td>\n",
       "    </tr>\n",
       "    <tr>\n",
       "      <th>297</th>\n",
       "      <td>University of Texas at Arlington</td>\n",
       "      <td>42.0</td>\n",
       "      <td>56800.0</td>\n",
       "    </tr>\n",
       "  </tbody>\n",
       "</table>\n",
       "<p>298 rows × 3 columns</p>\n",
       "</div>"
      ],
      "text/plain": [
       "                                       name  score  medianSalary\n",
       "0                      Princeton University  100.0       71300.0\n",
       "1                       Columbia University   97.0       67800.0\n",
       "2                        Harvard University   97.0       69000.0\n",
       "3     Massachusetts Institute of Technology   97.0       82700.0\n",
       "4                           Yale University   96.0       65900.0\n",
       "..                                      ...    ...           ...\n",
       "293               Portland State University   42.0       49300.0\n",
       "294           South Dakota State University   42.0       50300.0\n",
       "295            University of Hawaii at Hilo   42.0       44600.0\n",
       "296  University of Puerto Rico--Rio Piedras   42.0       41800.0\n",
       "297        University of Texas at Arlington   42.0       56800.0\n",
       "\n",
       "[298 rows x 3 columns]"
      ]
     },
     "execution_count": 62,
     "metadata": {},
     "output_type": "execute_result"
    }
   ],
   "source": [
    "salaries = pd.read_csv(\"all_univ_rows.csv\")[\"Median starting salary of alumni \"].apply( \n",
    "          lambda x: x if pd.isna(x) else int(x[1:].replace(\",\",\"\")))\n",
    "\n",
    "display_score = []\n",
    "for (name, data), salary in zip(all_univ_data.items(),salaries):\n",
    "    display_score.append({\"name\": name, \n",
    "                          \"score\": np.nan if isinstance(data[\"vDisplayScore\"],str) else data[\"vDisplayScore\"], \n",
    "                          \"medianSalary\":salary})\n",
    "\n",
    "# filter out unusable rows (score or medianSalary is not a number)\n",
    "score_df = pd.DataFrame(display_score)\n",
    "score_df.dropna()"
   ]
  },
  {
   "cell_type": "code",
   "execution_count": 69,
   "id": "241f81e3-668a-45f4-ac94-8508b9833062",
   "metadata": {},
   "outputs": [
    {
     "data": {
      "text/plain": [
       "[Text(0.5, 1.0, 'University Scores Vs. Median Alumni Starting Salary'),\n",
       " Text(0.5, 0, 'US News Score (0-100)'),\n",
       " Text(0, 0.5, 'Median Salary of Recent Alumni (USD)')]"
      ]
     },
     "execution_count": 69,
     "metadata": {},
     "output_type": "execute_result"
    },
    {
     "data": {
      "image/png": "[encoded data removed]",
      "text/plain": [
       "<Figure size 432x288 with 1 Axes>"
      ]
     },
     "metadata": {
      "needs_background": "light"
     },
     "output_type": "display_data"
    }
   ],
   "source": [
    "ax = sns.scatterplot(data=score_df, x=\"score\", y=\"medianSalary\")\n",
    "ax.set(title=\"University Scores Vs. Median Alumni Starting Salary\",xlabel=\"US News Score (0-100)\",ylabel=\"Median Salary of Recent Alumni (USD)\")"
   ]
  },
  {
   "cell_type": "markdown",
   "id": "01bbca9b-7dc7-4693-8bcf-5f1945f4ebf8",
   "metadata": {},
   "source": [
    "We can see a decent positive correlation, as we'd expect; however, we had to remove the bottom values from the graph because US News doesn't give a specific number for any university in the bottom 25 percent, which ends up being universities with a score under 42. "
   ]
  },
  {
   "cell_type": "code",
   "execution_count": null,
   "id": "a5011bc8-b634-467a-a439-8e2474750ddb",
   "metadata": {},
   "outputs": [],
   "source": [
    "TODO Quantify correlation"
   ]
  },
  {
   "cell_type": "markdown",
   "id": "97eec5bb-da4e-4404-8455-464cf33de151",
   "metadata": {},
   "source": [
    "### 2.2 Predicting Rankings"
   ]
  },
  {
   "cell_type": "markdown",
   "id": "f1b46308-a7c5-45cb-9721-63e6c5e62d2a",
   "metadata": {},
   "source": [
    "Unfortunately, unless you pay for premium access, you are only able to see a small portion of the factors that go into the ranking. But that leads one to ask: how much do those factors matter? Is the correlation between the different factors strong enough that we can predict the rankings using only the factors that we can access for free?"
   ]
  }
 ],
 "metadata": {
  "kernelspec": {
   "display_name": "Python 3 (ipykernel)",
   "language": "python",
   "name": "python3"
  },
  "language_info": {
   "codemirror_mode": {
    "name": "ipython",
    "version": 3
   },
   "file_extension": ".py",
   "mimetype": "text/x-python",
   "name": "python",
   "nbconvert_exporter": "python",
   "pygments_lexer": "ipython3",
   "version": "3.9.7"
  }
 },
 "nbformat": 4,
 "nbformat_minor": 5
}
