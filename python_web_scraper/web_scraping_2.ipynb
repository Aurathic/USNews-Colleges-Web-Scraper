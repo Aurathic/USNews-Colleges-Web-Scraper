{
 "cells": [
  {
   "cell_type": "markdown",
   "id": "96193f00-b3c2-4260-bba2-4f87c53a8ae6",
   "metadata": {},
   "source": [
    "With the importance placed on getting a college degree nowadays ([65 percent of workers have at least some postsecondary education](https://cew.georgetown.edu/cew-reports/americas-divided-recovery/)), students more than ever need to focus on getting into colleges that will best help them achieve their goals. Sites like (US News)[https://www.usnews.com/best-colleges] have become the de-facto standard for students trying to search through hundreds of universities and deciding which is the best fit. Specifically, US News' ranking system is given enormous weight, influencing (how schools are perceived by the general public)[https://www.forbes.com/sites/robertzafft/2021/12/07/us-news-business-school-rankings-crucial-but-meaningless/].\n",
    "\n"
   ]
  },
  {
   "cell_type": "markdown",
   "id": "dc9396ed-bfce-4dd2-8cd8-82123396a41d",
   "metadata": {},
   "source": [
    "## Part 1: Web Scraping\n",
    "After spending 8 hours or so writing a web scraper to get all the components from the website, it turns out that each page provides JSON objects that contain all the data in a much easier to extract format."
   ]
  },
  {
   "cell_type": "code",
   "execution_count": 132,
   "id": "a95f4cd5-3fe1-4003-9841-94f29aa36e47",
   "metadata": {},
   "outputs": [],
   "source": [
    "from bs4 import BeautifulSoup\n",
    "\n",
    "html_doc = open(\"2022 Best National Universities US News Rankings.htm\", encoding=\"utf8\")\n",
    "soup = BeautifulSoup(html_doc, 'html.parser')"
   ]
  },
  {
   "cell_type": "code",
   "execution_count": 133,
   "id": "96db69bf-a223-4fc5-8c26-fcef9fb8f57e",
   "metadata": {},
   "outputs": [
    {
     "name": "stdout",
     "output_type": "stream",
     "text": [
      "['https://www.usnews.com/best-colleges/princeton-university-2627', 'https://www.usnews.com/best-colleges/columbia-university-2707', 'https://www.usnews.com/best-colleges/harvard-university-2155', 'https://www.usnews.com/best-colleges/massachusetts-institute-of-technology-2178', 'https://www.usnews.com/best-colleges/yale-university-1426', 'https://www.usnews.com/best-colleges/stanford-university-1305', 'https://www.usnews.com/best-colleges/university-of-chicago-1774', 'https://www.usnews.com/best-colleges/university-of-pennsylvania-3378', 'https://www.usnews.com/best-colleges/california-institute-of-technology-1131', 'https://www.usnews.com/best-colleges/duke-university-2920']\n",
      "392\n"
     ]
    }
   ],
   "source": [
    "anchors = soup.select('a[class*=\"card-name\"]')\n",
    "links = list(map(lambda x: x.get('href'), anchors))\n",
    "print(links[:10])\n",
    "print(len(links))"
   ]
  },
  {
   "cell_type": "code",
   "execution_count": 65,
   "id": "89d0b8bd-404f-456c-8479-315c6f778189",
   "metadata": {},
   "outputs": [],
   "source": [
    "from bs4 import BeautifulSoup\n",
    "import requests\n",
    "import pandas as pd\n",
    "import json\n",
    "\n",
    "link = \"https://www.usnews.com/best-colleges/princeton-university-2627\"\n",
    "\n",
    "def get_soup_obj(link, subpage):\n",
    "    url = link + \"/\" + subpage\n",
    "    agent = {\"User-Agent\":'Mozilla/5.0'}\n",
    "    response = requests.get(url, headers = agent)\n",
    "    return BeautifulSoup(response.text, 'html.parser')\n",
    "\n",
    "soup = get_soup_obj(link, \"student-life\")"
   ]
  },
  {
   "cell_type": "markdown",
   "id": "2fee66b2-0161-4339-90c9-e73077e71755",
   "metadata": {},
   "source": [
    "Then, we look at the structure of the HTML files and find the line in the script containing the JSON object, and extract it:"
   ]
  },
  {
   "cell_type": "code",
   "execution_count": 140,
   "id": "317c4d0b-b1f9-4034-9345-1143ec0f5538",
   "metadata": {},
   "outputs": [],
   "source": [
    "def get_json_from_soup(soup_obj):\n",
    "    script_json_line = soup_obj.find_all(\"script\")[-2].contents[0].split(\"\\n\")[4]\n",
    "    json_obj_str = script_json_line[script_json_line.find(\"{\"):-1].replace(\"undefined\",\"null\")\n",
    "    json_obj = json.loads(json_obj_str)\n",
    "        \n",
    "    base_key = 'src/containers/pages/education/higher-education/colleges/profile'\n",
    "    json_data = json_obj.get(f'{base_key}/overview.js',False) or \\\n",
    "                json_obj.get(f'{base_key}/generic.js',False) or \\\n",
    "                json_obj.get(f'{base_key}/rankings.js',None)\n",
    "    \n",
    "    #print(\"json_data: \" + str(json_data)[:20])\n",
    "    json_data = json_data['data']['context']['data']['page']\n",
    "    return json_data\n",
    "    #return {'schoolData': json_data['schoolData'], \n",
    "    #        'fields': json_data['fields'],\n",
    "    #        'schoolDetails': json_data['schoolDetails']}\n",
    "\n",
    "#print(get_json_from_soup(get_soup_obj(link,\"\")))"
   ]
  },
  {
   "cell_type": "markdown",
   "id": "ab74de37-43cc-4e75-b1a5-ad67696d3c4e",
   "metadata": {},
   "source": [
    "The 'fields' data indicates how the data is structured, the 'schoolData' field provides the values, and 'schoolDetails' provides basic info not in 'schoolData'.\n",
    "\n",
    "We can use these methods to get all the data from every university and put it in a single JSON object, with the university name as the key\""
   ]
  },
  {
   "cell_type": "code",
   "execution_count": null,
   "id": "8f71b103-eb60-4ea5-8875-6f8544f71532",
   "metadata": {},
   "outputs": [],
   "source": [
    "all_univ_json_data = {}\n",
    "pages = [\"\", \"overall-rankings\", \"applying\", \"academics\", \"student-life\", \"paying\", \"campus-info\"]\n",
    "for link in links:\n",
    "    json_out = {'fields': {}, 'data': {}}\n",
    "    for page in pages:\n",
    "        json_data_fields = get_json_from_soup(get_soup_obj(link,page))\n",
    "        #print(page + \"::\" + str(json_data_fields)[:20])\n",
    "        json_out['data'].update(json_data_fields['schoolData'])\n",
    "        json_out['fields'].update(json_data_fields['fields'])\n",
    "    json_out['details'] = get_json_from_soup(get_soup_obj(link,\"\"))['schoolDetails']\n",
    "    name = json_out['details']['displayName']\n",
    "    all_univ_json_data[name] = json_out\n",
    "    print(name)"
   ]
  },
  {
   "cell_type": "code",
   "execution_count": 155,
   "id": "48beacde-947b-4a94-bb95-a15a762686c1",
   "metadata": {},
   "outputs": [],
   "source": [
    "with open('all_univ.json', 'w') as outfile:\n",
    "    json.dump(all_univ_json_data, outfile)"
   ]
  },
  {
   "cell_type": "markdown",
   "id": "9c8bdea4-350d-4c57-b8d9-a420f6dce73f",
   "metadata": {},
   "source": [
    "## Part 2: Analysis"
   ]
  },
  {
   "cell_type": "code",
   "execution_count": 157,
   "id": "364b14c2-0051-4168-b799-c2cacb5daffc",
   "metadata": {},
   "outputs": [],
   "source": [
    "# Read in the university data\n",
    "with open('all_univ.json', 'r') as infile:\n",
    "    all_univ_json_data = json.load(infile)"
   ]
  },
  {
   "cell_type": "code",
   "execution_count": 191,
   "id": "4c004283-ba11-4571-a3ce-ffbda21b87f3",
   "metadata": {},
   "outputs": [
    {
     "name": "stdout",
     "output_type": "stream",
     "text": [
      "Median starting salary of alumni (payscaleOverallStarting): None\n",
      "By major (topMajors): [['Social Sciences', 20], ['Engineering', 15], ['Computer and Information Sciences and Support Services', 12], ['Biological and Biomedical Sciences', 10], ['Public Administration and Social Service Professions', 9], ['Physical Sciences', 7], ['History', 6], ['Foreign Languages, Literatures, and Linguistics', 4], ['English Language and Literature/Letters', 3], ['Philosophy and Religious Studies', 3]]\n",
      "Selectivity (cSelectClass): Most selective\n",
      "Fall 2020 acceptance rate (rCAcceptRate): 6\n",
      "Application deadline (applicationDeadline): January 1\n",
      "SAT/ACT scores must be received by (actSatiLatestDate): January 1\n",
      "Class sizes  (gClassSizes)\n",
      "\tClasses with fewer than 20 students (vClasses1): 77.6\n",
      "\t20-49 (vClasses2): 13.5\n",
      "\t50 or more (vClasses3): 9\n",
      "Student-faculty ratio (vStudentFacultyRatio): 4:1\n",
      "4-year graduation rate (gradRate4Year): 90\n",
      "Student gender distribution (gStudentGenderDistribution)\n",
      "\tMale (vPctUnderMen): 50\n",
      "\tFemale (vPctUnderWomen): 50\n",
      "Total enrollment (totalAllStudents): 7852\n",
      "Collegiate athletic association (association): NCAA I\n",
      " (gFinancialAidStatistics)\n",
      "\tApplied for need-based aid (pctApplyFinAid): 73.1\n",
      "\tNeed was fully met (pctNeedFullyMet): 100\n",
      "\tReceived need-based financial aid (pctRecvAidFt): 62\n",
      "\tReceived need-based self-help aid (pctSelfHelpFt): 4.7\n",
      "\tAverage percent of need met (avgPctNeedMetFt): 100\n",
      "Tuition and fees (vPrivateTuition): 56010\n",
      "Room and board (wRoomBoard): 18180\n",
      "Students who have cars on campus (regPctAllCars): None\n",
      "Health insurance offered (guiAddServIns): Yes\n",
      "School statement text (schoolStatementText): None\n",
      "School statement URL (schoolStatementUrl): None\n",
      "School statement update time (schoolStatementUpdateDateTime): None\n",
      "Score (out of 100) (vDisplayScore): 100\n",
      "Average 6-year graduation rate (17.6%) (rCAvgPctGrad6Yr): 97\n",
      "6-year graduation rate of students who received a Pell Grant (2.5%) (pellGradRate): 98\n",
      "6-year graduation rate of students who did not receive a Pell Grant (2.5%) (nonPellGradrate): 98\n",
      "Classes with fewer than 20 students (rCPctClasses119): 77.6\n",
      "Classes with 50 or more students (rCPctClassesGt50): 9\n",
      "Student-faculty ratio (1%) (vStudentFacultyRatio): 4:1\n",
      "Admission interview (speReqAdmIntReq): Recommended\n",
      "Required standardized tests (vSatActPolicy): Either SAT or ACT\n",
      "Early decision deadline (earlyDecPlanClose): N/A\n",
      "Application fee (applicationFee): 70\n",
      "Common Application accepted (commonAppYn): Yes\n",
      "Deadline for housing deposit (dlHousingDeposit): None\n",
      "Acceptance rate (rCAcceptRate): 6\n",
      "Early decision acceptance rate (earlyDecAcceptRate): None\n",
      "SATs on 1600 scale (gSat1600ScaleChart)\n",
      "\t400-599 (satGridRng599): 0\n",
      "\t600-799 (satGridRng799): 0\n",
      "\t800-999 (satGridRng999): 0\n",
      "\t1000-1199 (satGridRng1199): 0.61\n",
      "\t1200-1399 (satGridRng1399): 13.24\n",
      "\t1400-1600 (satGridRng1600): 86.15\n",
      "Accepting applications (vTrfEnroll): Fall\n",
      "Minimum credits to apply (trfAppMinNcreNum): No\n",
      "Minimum required college GPA (trfMinGpaCol): None\n",
      "Has guaranteed admission agreement with at least one other institution (trfGuaranteedAdmYn): No\n",
      "Guaranteed admission agreement URL (trfGuaranteedAdmUrl): None\n",
      "Application deadline (vIntCloDate): ['Fall - Jan. 1']\n",
      "Separate application form required (intSepAppReqYesno): No\n",
      "Conditional admission offered (intAppCondAdmYn): No\n",
      "Early decision or early action options available (vIntAppEdEaYn): Early action only\n",
      "TOEFL (paper) (internationalTestReqToeflPaper): Considered\n",
      "TOEFL (internet-based) (internationalTestReqToeflComputer): Required of some\n",
      "Michigan Test (internationalTestReqMichiganTest): None\n",
      "IELTS (internationalTestReqIelts): Required of some\n",
      "SAT (internationalTestReqSat): Required\n",
      "ACT (internationalTestReqAct): Required\n",
      "Advance deposit required (intrntnlAdvDepReqYn): No\n",
      "TOEFL accepted instead of SAT or ACT (toeflReplaceSat): No\n",
      "International student contact (vIntStuContact): Alex Bustin, Senior Associate Dean of Admission, (609) 258-5287, abustin@princeton.edu\n",
      "Ten most popular majors for 2020 graduates (topMajors): [['Social Sciences', 20], ['Engineering', 15], ['Computer and Information Sciences and Support Services', 12], ['Biological and Biomedical Sciences', 10], ['Public Administration and Social Service Professions', 9], ['Physical Sciences', 7], ['History', 6], ['Foreign Languages, Literatures, and Linguistics', 4], ['English Language and Literature/Letters', 3], ['Philosophy and Religious Studies', 3]]\n",
      "Degrees offered (vDgrOffIns): Bachelor's, Master's, Doctorate - research/scholarship\n",
      "Combined-degree programs (gCombDegree): []\n",
      "Student participation in special academic programs (vAcaOff5): ['First-year experiences - N/A', 'Service learning - N/A', 'Senior capstone or culminating academic experience - N/A', 'Writing in the disciplines - N/A', 'Undergraduate research/creative projects - N/A']\n",
      "Online bachelor's degree program offered (offersObdProgramYn): No\n",
      "Full-time faculty gender distribution (gFtFacultyGenderDist)\n",
      "\tMale (wPctFtFacMen): 63.5\n",
      "\tFemale (wPctFtFacWomen): 36.5\n",
      "Part-time faculty gender distribution (gPtFacultyGenderDist)\n",
      "\tMale (wPctPtFacMen): 54.8\n",
      "\tFemale (wPctPtFacWomen): 45.2\n",
      "General education/core curriculum required (eduGenReqYesno): Yes\n",
      "School mission and unique qualities (as provided by the school): (uniQuaPerAcaYear): Princeton is a world-class teaching and research university with a profound and distinctive commitment to undergraduate education and service. Through its commitment to ensuring all students can graduate with little or no debt, all students who are accepted can rely on Princeton's financial aid program to meet their financial need so they can attend and thrive at the University. More than ever, Princeton seeks to enroll the most talented students from a broad spectrum of cultural, ethnic and economic backgrounds. Students' experiences inside and outside the classroom prepare them for service, leadership and lifelong learning. Princeton emphasizes creativity, innovation and collaboration with a program of liberal arts in the humanities, arts, social sciences, natural sciences and engineering. Princeton's low student-to-faculty ratio means students are able to develop close working relationships with professors, who are leaders in their fields. We expect every faculty member to teach, and we expect every student to do original, creative research. Our approximately 5,300 undergraduate students are part of a vibrant campus community, and students stay connected to a Princeton community that spans the globe long after they have graduated. Students are encouraged to explore many academic and extracurricular opportunities while taking advantage of the University's extraordinary facilities and resources. We are a community of learning that is enriched by the varied experiences and perspectives of and engagement between our students, faculty and staff. Classrooms are filled with students and faculty from a wide range of backgrounds from across the country and around the world, and students benefit from the interdisciplinary connections at the core of Princeton's curriculum. We invite you to explore more about what makes Princeton special and contributes to the transformative experience that is a Princeton education.\n",
      "Total undergraduate enrollment (totalUndergrads): 4773\n",
      "Total graduate enrollment (totalGradsAndPros): 3079\n",
      "Awarded Pell Grants (2019-2020) (pctPell): 22\n",
      "Degree-seeking student gender distribution (gDegSeekStudentGenderDist)\n",
      "\tDegree-seeking men (webPctMaleDegSeek): 49\n",
      "\tDegree-seeking women (webPctFemaleDegSeek): 51\n",
      "Enrolled students who are veterans or active service members (enrollmentMilitaryTotalCyPct): 0.5\n",
      "Students living on- and off-campus (gStudentsOnOffCampus)\n",
      "\tStudents who live in college-owned, operated or affiliated housing (pctUnderOnCampus): 0\n",
      "\tStudents who live off-campus (stuCatLiveOffCampusUg): 0\n",
      "Types of campus housing available (vHouOff): [['coed dorms', ''], [\"women's dorms\", ''], [\"men's dorms\", ''], ['apartments for married students', ''], ['apartment for single students', ''], ['special housing for disabled students', ''], ['cooperative housing', ''], ['wellness housing', ''], ['other housing options', '']]\n",
      "Undergraduate men who are members of a fraternity (gFraternityMembers)\n",
      "\tIn fraternity (stuCatFraternityUg): 0\n",
      "\tIndependent (stuCatNoFraternityUg): 100\n",
      "Undergraduate women who are members of a sorority (gSororityMembers)\n",
      "\tIn sorority (stuCatSororityUg): 0\n",
      "\tIndependent (stuCatNoSororityUg): 100\n",
      "Air Force ROTC (vRotcOffAirforce): Offered at cooperating institution\n",
      "Army ROTC (vRotcOffArmy): Offered on campus\n",
      "Navy ROTC (vRotcOffNavy): Offered at cooperating institution\n",
      "In-state tuition and fees (vInStateTuition): None\n",
      "Out-of-state tuition and fees (vOutStateTuition): None\n",
      "Net price for federal loan recipients (2018-2019) (csAvgCost): 11317\n",
      "Net price by family income (2018-2019) (csAvgCostIncome)\n",
      "\t\t (nptLo): 1386\n",
      "\t\t (nptMed1): 2044\n",
      "\t\t (nptMed2): 7576\n",
      "\t\t (nptHi1): 16989\n",
      "\t\t (nptHi2): 36747\n",
      "Go to this school's net price calculator (netPriceCalculator): http://www.princeton.edu/admission/financialaid/estimator/\n",
      "Institution is G.I. Bill certified (giBillCertified): Yes\n",
      "Institution participates in Yellow Ribbon Program (yellowRibbonParticipant): Yes\n",
      "Typical total federal loan debt after graduation (csTypicalDebt): 10750\n",
      "Typical total federal loan debt among those who did not graduate (csTypicalDebtNograduate): 6001\n",
      "Typical total federal loan debt by family income (csTypicalDebtIncome)\n",
      "\t\t (loIncDebtMdn): 3865\n",
      "\t\t (mdIncDebtMdn): 6001\n",
      "\t\t (hiIncDebtMdn): 12000\n",
      "Typical monthly loan payment (csTypicalLoanPayMonthly): 103\n",
      "Undergraduates paying down their federal loan debt (csLoanRepayment): None\n",
      "Undergraduates paying down their federal loan debt by family income (csLoanRepaymentIncome)\n",
      "\t\t (loIncRpy3yrRt): None\n",
      "\t\t (mdIncRpy3yrRt): None\n",
      "\t\t (hiIncRpy3yrRt): None\n",
      "Average total indebtedness of 2020 graduating class (avgGradDebt): 9623\n",
      "Graduating students who have borrowed (any loan type, 2020) (pctIncuredDebt): 17\n",
      "Used GI Bill benefits to partially or fully finance tuition and fees (vGiBill): 0\n",
      "Undergraduates receiving federal loan (csPctRcvFedLoan): 3\n",
      "Undergraduates receiving federal loan by family income (csPctRcvFedLoanIncome)\n",
      "\t\t (incPctLo): None\n",
      "\t\t (incPctM1): None\n",
      "\t\t (incPctM2): None\n",
      "\t\t (incPctH1): None\n",
      "\t\t (incPctH2): None\n",
      "Campus size (acres) (envCamSize): 600\n",
      "Alcohol permitted on campus for students of legal age (regAlcPermYesno): Yes\n",
      "Career services offered (vGuiServAva): ['on-campus job interviews', 'internships', 'resume assistance', 'career/job search classes', 'alumni network', 'interest inventory', 'interview training']\n",
      "Basic student services offered (vGuiAddServ): ['nonremedial tutoring', \"women's center\", 'placement service', 'day care', 'health service', 'health insurance']\n",
      "Campus safety and security services offered (vGuiSaf): ['24-hour foot and vehicle patrols', 'Late night transport/escort service', '24-hour emergency telephones', 'Lighted pathways/sidewalks', 'Controlled dormitory access (key, security card, etc.)']\n",
      "Computers available for student use in (vComSchProvNet): []\n",
      "On-campus library (libSchCamYesno): Yes\n",
      "Museums or special academic buildings on campus (libMusOther): Art Museum with Permanent Collection, Museum of Natural History, Center for Energy and Environmental Studies, Plasma Physics Laboratory\n",
      "Services for LD students (vProServAva): ['note-taking services', 'learning center', 'readers', 'extended time for tests', 'tutors', 'substitution of courses', 'typist/scribe', 'exams on tape or computer', 'other testing accommodations']\n",
      "Services for physically disabled students (vGuiSpePgm): ['note-taking services', 'tape recorders', 'special housing', 'tutors', 'adaptive equipment', 'reader services', 'braille services', 'interpreters for hearing-impaired', 'talking books']\n",
      "Accessibility of campus to physically disabled students (guidnceCmpsAcsblty): Mostly\n"
     ]
    }
   ],
   "source": [
    "univ_name = 'Princeton University'\n",
    "nested_fields = []\n",
    "for field in all_univ_json_data[univ_name]['fields'].values():\n",
    "    if field['isPublic']: \n",
    "        if 'subFields' in field:\n",
    "            print(f\"{field['label']} ({field['primaryKey']})\")\n",
    "            for subfield in field['subFields']:\n",
    "                if \"fields\" in subfield:\n",
    "                    for subfield_field in subfield['fields']:\n",
    "                        nested_fields.append(subfield_field)\n",
    "                        subfield_label = all_univ_json_data[univ_name]['fields'][subfield_field]['label']\n",
    "                        subfield_data = all_univ_json_data[univ_name]['data'][subfield_field]\n",
    "                        print(f\"\\t\\t{subfield_label} ({subfield_data['fieldName']}): {subfield_data['rawValue']}\")\n",
    "                elif \"field\" in subfield:\n",
    "                    nested_fields.append(subfield['field'])\n",
    "                    subfield_name = all_univ_json_data[univ_name]['fields'][subfield['field']]['label']\n",
    "                    subfield_data = all_univ_json_data[univ_name]['data'][subfield['field']]\n",
    "                    print(f\"\\t{subfield_name} ({subfield_data['fieldName']}): {subfield_data['rawValue']}\")\n",
    "        else:\n",
    "            if field['fieldName'] not in nested_fields:\n",
    "                field_label = field['label']\n",
    "                field_data = all_univ_json_data[univ_name]['data'][field['fieldName']]\n",
    "                print(f\"{field_label} ({field_data['fieldName']}): {field_data['rawValue']}\")\n",
    "        "
   ]
  },
  {
   "cell_type": "code",
   "execution_count": null,
   "id": "c30d1058-db14-44d5-8599-1bd83ce25bd5",
   "metadata": {},
   "outputs": [],
   "source": []
  }
 ],
 "metadata": {
  "kernelspec": {
   "display_name": "Python 3 (ipykernel)",
   "language": "python",
   "name": "python3"
  },
  "language_info": {
   "codemirror_mode": {
    "name": "ipython",
    "version": 3
   },
   "file_extension": ".py",
   "mimetype": "text/x-python",
   "name": "python",
   "nbconvert_exporter": "python",
   "pygments_lexer": "ipython3",
   "version": "3.9.7"
  }
 },
 "nbformat": 4,
 "nbformat_minor": 5
}
