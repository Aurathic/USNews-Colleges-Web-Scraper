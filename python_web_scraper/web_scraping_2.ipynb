{
 "cells": [
  {
   "cell_type": "markdown",
   "id": "6b062cb0-58b4-4637-8b96-3ba5bb51340e",
   "metadata": {
    "tags": []
   },
   "source": [
    "# Introduction"
   ]
  },
  {
   "cell_type": "markdown",
   "id": "96193f00-b3c2-4260-bba2-4f87c53a8ae6",
   "metadata": {},
   "source": [
    "With the importance placed on getting a college degree nowadays ([65 percent of workers have at least some postsecondary education](https://cew.georgetown.edu/cew-reports/americas-divided-recovery/)), students more than ever need to focus on getting into colleges that will best help them achieve their goals. Sites like [US News](https://www.usnews.com/best-colleges) have become the de-facto standard for students trying to search through hundreds of universities and deciding which is the best fit. Specifically, US News' ranking system is given enormous weight, influencing [how schools are perceived by the general public](https://www.forbes.com/sites/robertzafft/2021/12/07/us-news-business-school-rankings-crucial-but-meaningless/).\n",
    "\n"
   ]
  },
  {
   "cell_type": "markdown",
   "id": "dc9396ed-bfce-4dd2-8cd8-82123396a41d",
   "metadata": {
    "jp-MarkdownHeadingCollapsed": true,
    "tags": []
   },
   "source": [
    "## Web Scraping\n",
    "After spending 8 hours or so writing a web scraper to get all the components from the website, it turns out that each page provides JSON objects that contain all the data in a much easier to extract format. Oh well. "
   ]
  },
  {
   "cell_type": "code",
   "execution_count": 38,
   "id": "a95f4cd5-3fe1-4003-9841-94f29aa36e47",
   "metadata": {},
   "outputs": [],
   "source": [
    "from bs4 import BeautifulSoup\n",
    "\n",
    "html_doc = open(\"2022 Best National Universities US News Rankings.htm\", encoding=\"utf8\")\n",
    "soup = BeautifulSoup(html_doc, 'html.parser')"
   ]
  },
  {
   "cell_type": "code",
   "execution_count": 39,
   "id": "96db69bf-a223-4fc5-8c26-fcef9fb8f57e",
   "metadata": {},
   "outputs": [
    {
     "name": "stdout",
     "output_type": "stream",
     "text": [
      "['https://www.usnews.com/best-colleges/princeton-university-2627', 'https://www.usnews.com/best-colleges/columbia-university-2707', 'https://www.usnews.com/best-colleges/harvard-university-2155', 'https://www.usnews.com/best-colleges/massachusetts-institute-of-technology-2178', 'https://www.usnews.com/best-colleges/yale-university-1426', 'https://www.usnews.com/best-colleges/stanford-university-1305', 'https://www.usnews.com/best-colleges/university-of-chicago-1774', 'https://www.usnews.com/best-colleges/university-of-pennsylvania-3378', 'https://www.usnews.com/best-colleges/california-institute-of-technology-1131', 'https://www.usnews.com/best-colleges/duke-university-2920']\n",
      "392\n"
     ]
    }
   ],
   "source": [
    "anchors = soup.select('a[class*=\"card-name\"]')\n",
    "links = list(map(lambda x: x.get('href'), anchors))\n",
    "print(links[:10])\n",
    "print(len(links))"
   ]
  },
  {
   "cell_type": "code",
   "execution_count": 40,
   "id": "89d0b8bd-404f-456c-8479-315c6f778189",
   "metadata": {},
   "outputs": [],
   "source": [
    "from bs4 import BeautifulSoup\n",
    "import requests\n",
    "import pandas as pd\n",
    "import json\n",
    "\n",
    "link = \"https://www.usnews.com/best-colleges/princeton-university-2627\"\n",
    "\n",
    "def get_soup_obj(link, subpage):\n",
    "    url = link + \"/\" + subpage\n",
    "    agent = {\"User-Agent\":'Mozilla/5.0'}\n",
    "    response = requests.get(url, headers = agent)\n",
    "    return BeautifulSoup(response.text, 'html.parser')\n",
    "\n",
    "soup = get_soup_obj(link, \"student-life\")"
   ]
  },
  {
   "cell_type": "markdown",
   "id": "2fee66b2-0161-4339-90c9-e73077e71755",
   "metadata": {},
   "source": [
    "Then, we look at the structure of the HTML files and find the line in the script containing the JSON object, and extract it:"
   ]
  },
  {
   "cell_type": "code",
   "execution_count": 77,
   "id": "317c4d0b-b1f9-4034-9345-1143ec0f5538",
   "metadata": {},
   "outputs": [],
   "source": [
    "def get_json_from_soup(soup_obj):\n",
    "    script_json_line = soup_obj.find_all(\"script\")[-2].contents[0].split(\"\\n\")[4]\n",
    "    json_obj_str = script_json_line[script_json_line.find(\"{\"):-1].replace(\"undefined\",\"null\")\n",
    "    json_obj = json.loads(json_obj_str)\n",
    "        \n",
    "    base_key = 'src/containers/pages/education/higher-education/colleges/profile'\n",
    "    json_data = json_obj.get(f'{base_key}/overview.js',False) or \\\n",
    "                json_obj.get(f'{base_key}/generic.js',False) or \\\n",
    "                json_obj.get(f'{base_key}/rankings.js',None)\n",
    "    \n",
    "    return json_data['data']['context']['data']['page'] "
   ]
  },
  {
   "cell_type": "markdown",
   "id": "ab74de37-43cc-4e75-b1a5-ad67696d3c4e",
   "metadata": {},
   "source": [
    "The 'fields' data indicates how the data is structured, the 'schoolData' field provides the values, and 'schoolDetails' provides basic info not in 'schoolData'.\n",
    "\n",
    "We can use these methods to get all the data from every university and put it in a single JSON object, with the university name as the key."
   ]
  },
  {
   "cell_type": "code",
   "execution_count": null,
   "id": "8f71b103-eb60-4ea5-8875-6f8544f71532",
   "metadata": {},
   "outputs": [],
   "source": [
    "all_univ_json_data = {}\n",
    "pages = [\"\", \"overall-rankings\", \"applying\", \"academics\", \"student-life\", \"paying\", \"campus-info\"]\n",
    "for link in links:\n",
    "    json_out = {'fields': {}, 'data': {}}\n",
    "    for page in pages:\n",
    "        json_data_fields = get_json_from_soup(get_soup_obj(link,page))\n",
    "        #print(page + \"::\" + str(json_data_fields)[:20])\n",
    "        json_out['data'].update(json_data_fields['schoolData'])\n",
    "        json_out['fields'].update(json_data_fields['fields'])\n",
    "    json_out['details'] = get_json_from_soup(get_soup_obj(link,\"\"))['schoolDetails']\n",
    "    name = json_out['details']['displayName']\n",
    "    all_univ_json_data[name] = json_out\n",
    "    print(name)"
   ]
  },
  {
   "cell_type": "code",
   "execution_count": 155,
   "id": "48beacde-947b-4a94-bb95-a15a762686c1",
   "metadata": {},
   "outputs": [],
   "source": [
    "with open('all_univ.json', 'w') as outfile:\n",
    "    json.dump(all_univ_json_data, outfile)"
   ]
  },
  {
   "cell_type": "markdown",
   "id": "9c8bdea4-350d-4c57-b8d9-a420f6dce73f",
   "metadata": {
    "jp-MarkdownHeadingCollapsed": true,
    "tags": []
   },
   "source": [
    "### Part 1.2: Data Compression"
   ]
  },
  {
   "cell_type": "code",
   "execution_count": 4,
   "id": "364b14c2-0051-4168-b799-c2cacb5daffc",
   "metadata": {},
   "outputs": [],
   "source": [
    "import json\n",
    "\n",
    "# Read in the university data\n",
    "with open('all_univ.json', 'r') as infile:\n",
    "    all_univ_json_data = json.load(infile)"
   ]
  },
  {
   "cell_type": "markdown",
   "id": "3e82d094-0ac8-4625-b379-3a28f1aed1d3",
   "metadata": {},
   "source": [
    "There are a lot of unnecessary structure in this data that we can remove, to decrease the size of the file (i.e. make it small enough I can upload it to GitHub without using LFS) and make our analysis life a lot easier."
   ]
  },
  {
   "cell_type": "code",
   "execution_count": 5,
   "id": "4c004283-ba11-4571-a3ce-ffbda21b87f3",
   "metadata": {},
   "outputs": [],
   "source": [
    "nested_fields = set()\n",
    "\n",
    "# Add the initial key set for the field and the full (human-readable) name of the field to a dictionary\n",
    "def create_field_label_keys():\n",
    "    # Assumes that all of the possible data attributes are contained within the first university on the list\n",
    "    # Even if this isn't true, it covers a vast majority of use cases, so it's acceptable to me\n",
    "    key = {}\n",
    "    # Iterate through fields, putting the labels and fieldNames into a dictionary for future reference\n",
    "    for field in all_univ_json_data['Princeton University']['fields'].values():\n",
    "        if 'fieldName' in field:\n",
    "            key[field['fieldName']] = field['label']\n",
    "    return key    \n",
    "    \n",
    "def get_data_value(univ, field_name):\n",
    "    return univ['data'][field_name]['rawValue'] if 'rawValue' in univ['data'][field_name] else None\n",
    "\n",
    "# Given a key, get the value associated, also extracting any nested fields associated with that key. \n",
    "def get_field_value(univ, field):\n",
    "    if 'subFields' in field:\n",
    "        subfields = {}\n",
    "        for subfield in field['subFields']:\n",
    "            subfield_fields = subfield['fields'] if \"fields\" in subfield else [subfield['field']] \n",
    "            for subfield_field in subfield_fields:\n",
    "                nested_fields.add(subfield_field)\n",
    "                subfields[subfield_field] = get_data_value(univ, subfield_field)\n",
    "        return subfields\n",
    "    else:\n",
    "        if field['fieldName'] not in nested_fields:\n",
    "            return get_data_value(univ, field['fieldName'])\n",
    "\n",
    "# Returns a tuple; the first value is the actual data, the second is the additional part of the key mapping\n",
    "def get_details_info(univ):\n",
    "    univ_details = univ['details'].copy()\n",
    "    univ_details.pop(\"mainRank\")\n",
    "    univ_details.pop(\"crossWalk\")\n",
    "    keys = {}\n",
    "    ranks = {}\n",
    "    for rank_name, rank_data in univ_details['ranks'].items():\n",
    "        if rank_data['isPublic'] and not rank_data['locked']:\n",
    "            keys[rank_name] = rank_data['displayName']\n",
    "            ranks[rank_name] = rank_data['displayRank']\n",
    "    univ_details['ranks'] = ranks\n",
    "    return (univ_details, keys)\n",
    "\n",
    "univ_keys = create_field_label_keys() # map between field keys and readable labels\n",
    "\n",
    "all_univ_data = []\n",
    "for name, univ in list(all_univ_json_data.items()):\n",
    "    univ_data = {}\n",
    "    # Add info from 'details'\n",
    "    details_data, details_keys = get_details_info(univ)\n",
    "    univ_keys.update(details_keys)\n",
    "    univ_data.update(details_data)   \n",
    "    \n",
    "    for field in univ['fields'].values():\n",
    "        if field['isPublic']: \n",
    "            field_value = get_field_value(univ, field)\n",
    "            if field_value is not None:\n",
    "                univ_data[field['fieldName']] = field_value\n",
    "\n",
    "    all_univ_data.append(univ_data)\n",
    "    #print(name)"
   ]
  },
  {
   "cell_type": "code",
   "execution_count": 6,
   "id": "220e1c9a-752f-451b-8efb-252010a49db4",
   "metadata": {},
   "outputs": [],
   "source": [
    "with open('all_univ_compressed.json', 'w') as outfile:\n",
    "    json.dump(all_univ_data, outfile)\n",
    "with open('all_univ_compressed_key.json', 'w') as outfile:\n",
    "    json.dump(univ_keys, outfile)"
   ]
  },
  {
   "cell_type": "markdown",
   "id": "ca8e6256-e2c8-496a-8e52-3219fe3f6fe2",
   "metadata": {},
   "source": [
    "## Analysis"
   ]
  },
  {
   "cell_type": "markdown",
   "id": "d9c3d6db-55ec-4f78-994e-1980e7988548",
   "metadata": {},
   "source": [
    "Loading in the \"cleaned-up\" data structure:"
   ]
  },
  {
   "cell_type": "code",
   "execution_count": 7,
   "id": "288fb94b-8561-46cd-bf9c-e6450a0ea691",
   "metadata": {},
   "outputs": [],
   "source": [
    "import pandas as pd, numpy as np, seaborn as sns\n",
    "import matplotlib.pyplot as plt\n",
    "import statsmodels.formula.api as smf\n",
    "import json"
   ]
  },
  {
   "cell_type": "code",
   "execution_count": 65,
   "id": "c8bf100b-98b7-4c36-aed0-6cd8216cb3cb",
   "metadata": {},
   "outputs": [],
   "source": [
    "with open('all_univ_compressed.json', 'r') as infile:\n",
    "    all_univ_data = json.load(infile)\n",
    "with open('all_univ_compressed_key.json', 'r') as infile:\n",
    "    data_key = json.load(infile)\n",
    "univ_df = pd.DataFrame(all_univ_data)"
   ]
  },
  {
   "cell_type": "code",
   "execution_count": 66,
   "id": "284b23fc-cfaf-4b07-8bd3-31449800fe1e",
   "metadata": {
    "tags": []
   },
   "outputs": [
    {
     "data": {
      "text/html": [
       "<div>\n",
       "<style scoped>\n",
       "    .dataframe tbody tr th:only-of-type {\n",
       "        vertical-align: middle;\n",
       "    }\n",
       "\n",
       "    .dataframe tbody tr th {\n",
       "        vertical-align: top;\n",
       "    }\n",
       "\n",
       "    .dataframe thead th {\n",
       "        text-align: right;\n",
       "    }\n",
       "</style>\n",
       "<table border=\"1\" class=\"dataframe\">\n",
       "  <thead>\n",
       "    <tr style=\"text-align: right;\">\n",
       "      <th></th>\n",
       "      <th>primaryKey</th>\n",
       "      <th>xwalkId</th>\n",
       "      <th>urlName</th>\n",
       "      <th>displayName</th>\n",
       "      <th>shortName</th>\n",
       "      <th>city</th>\n",
       "      <th>state</th>\n",
       "      <th>zip</th>\n",
       "      <th>website</th>\n",
       "      <th>streetAddress1</th>\n",
       "      <th>...</th>\n",
       "      <th>regPctAllCars</th>\n",
       "      <th>schoolStatementText</th>\n",
       "      <th>schoolStatementUrl</th>\n",
       "      <th>schoolStatementUpdateDateTime</th>\n",
       "      <th>dlHousingDeposit</th>\n",
       "      <th>trfMinGpaCol</th>\n",
       "      <th>trfGuaranteedAdmUrl</th>\n",
       "      <th>vInStateTuition</th>\n",
       "      <th>vOutStateTuition</th>\n",
       "      <th>internationalTestReqMichiganTest</th>\n",
       "    </tr>\n",
       "  </thead>\n",
       "  <tbody>\n",
       "    <tr>\n",
       "      <th>0</th>\n",
       "      <td>2627</td>\n",
       "      <td>186131</td>\n",
       "      <td>princeton-university</td>\n",
       "      <td>Princeton University</td>\n",
       "      <td>Princeton University</td>\n",
       "      <td>Princeton</td>\n",
       "      <td>NJ</td>\n",
       "      <td>08544</td>\n",
       "      <td>http://www.princeton.edu</td>\n",
       "      <td>N/A</td>\n",
       "      <td>...</td>\n",
       "      <td>NaN</td>\n",
       "      <td>NaN</td>\n",
       "      <td>NaN</td>\n",
       "      <td>NaN</td>\n",
       "      <td>NaN</td>\n",
       "      <td>NaN</td>\n",
       "      <td>NaN</td>\n",
       "      <td>NaN</td>\n",
       "      <td>NaN</td>\n",
       "      <td>NaN</td>\n",
       "    </tr>\n",
       "    <tr>\n",
       "      <th>1</th>\n",
       "      <td>2707</td>\n",
       "      <td>190150</td>\n",
       "      <td>columbia-university</td>\n",
       "      <td>Columbia University</td>\n",
       "      <td>Columbia University</td>\n",
       "      <td>New York</td>\n",
       "      <td>NY</td>\n",
       "      <td>10027</td>\n",
       "      <td>http://www.columbia.edu</td>\n",
       "      <td>2960 Broadway</td>\n",
       "      <td>...</td>\n",
       "      <td>NaN</td>\n",
       "      <td>NaN</td>\n",
       "      <td>NaN</td>\n",
       "      <td>NaN</td>\n",
       "      <td>NaN</td>\n",
       "      <td>NaN</td>\n",
       "      <td>NaN</td>\n",
       "      <td>NaN</td>\n",
       "      <td>NaN</td>\n",
       "      <td>NaN</td>\n",
       "    </tr>\n",
       "    <tr>\n",
       "      <th>2</th>\n",
       "      <td>2155</td>\n",
       "      <td>166027</td>\n",
       "      <td>harvard-university</td>\n",
       "      <td>Harvard University</td>\n",
       "      <td>Harvard University</td>\n",
       "      <td>Cambridge</td>\n",
       "      <td>MA</td>\n",
       "      <td>02138</td>\n",
       "      <td>http://www.harvard.edu/</td>\n",
       "      <td>N/A</td>\n",
       "      <td>...</td>\n",
       "      <td>NaN</td>\n",
       "      <td>NaN</td>\n",
       "      <td>NaN</td>\n",
       "      <td>NaN</td>\n",
       "      <td>NaN</td>\n",
       "      <td>NaN</td>\n",
       "      <td>NaN</td>\n",
       "      <td>NaN</td>\n",
       "      <td>NaN</td>\n",
       "      <td>NaN</td>\n",
       "    </tr>\n",
       "    <tr>\n",
       "      <th>3</th>\n",
       "      <td>2178</td>\n",
       "      <td>166683</td>\n",
       "      <td>massachusetts-institute-of-technology</td>\n",
       "      <td>Massachusetts Institute of Technology</td>\n",
       "      <td>Massachusetts Institute of Technology</td>\n",
       "      <td>Cambridge</td>\n",
       "      <td>MA</td>\n",
       "      <td>02139</td>\n",
       "      <td>http://web.mit.edu/</td>\n",
       "      <td>77 Massachusetts Avenue</td>\n",
       "      <td>...</td>\n",
       "      <td>9.0</td>\n",
       "      <td>NaN</td>\n",
       "      <td>NaN</td>\n",
       "      <td>NaN</td>\n",
       "      <td>NaN</td>\n",
       "      <td>NaN</td>\n",
       "      <td>NaN</td>\n",
       "      <td>NaN</td>\n",
       "      <td>NaN</td>\n",
       "      <td>NaN</td>\n",
       "    </tr>\n",
       "    <tr>\n",
       "      <th>4</th>\n",
       "      <td>1426</td>\n",
       "      <td>130794</td>\n",
       "      <td>yale-university</td>\n",
       "      <td>Yale University</td>\n",
       "      <td>Yale University</td>\n",
       "      <td>New Haven</td>\n",
       "      <td>CT</td>\n",
       "      <td>06520</td>\n",
       "      <td>http://www.yale.edu/</td>\n",
       "      <td>N/A</td>\n",
       "      <td>...</td>\n",
       "      <td>NaN</td>\n",
       "      <td>NaN</td>\n",
       "      <td>NaN</td>\n",
       "      <td>NaN</td>\n",
       "      <td>NaN</td>\n",
       "      <td>NaN</td>\n",
       "      <td>NaN</td>\n",
       "      <td>NaN</td>\n",
       "      <td>NaN</td>\n",
       "      <td>NaN</td>\n",
       "    </tr>\n",
       "  </tbody>\n",
       "</table>\n",
       "<p>5 rows × 121 columns</p>\n",
       "</div>"
      ],
      "text/plain": [
       "  primaryKey xwalkId                                urlName  \\\n",
       "0       2627  186131                   princeton-university   \n",
       "1       2707  190150                    columbia-university   \n",
       "2       2155  166027                     harvard-university   \n",
       "3       2178  166683  massachusetts-institute-of-technology   \n",
       "4       1426  130794                        yale-university   \n",
       "\n",
       "                             displayName  \\\n",
       "0                   Princeton University   \n",
       "1                    Columbia University   \n",
       "2                     Harvard University   \n",
       "3  Massachusetts Institute of Technology   \n",
       "4                        Yale University   \n",
       "\n",
       "                               shortName       city state    zip  \\\n",
       "0                   Princeton University  Princeton    NJ  08544   \n",
       "1                    Columbia University   New York    NY  10027   \n",
       "2                     Harvard University  Cambridge    MA  02138   \n",
       "3  Massachusetts Institute of Technology  Cambridge    MA  02139   \n",
       "4                        Yale University  New Haven    CT  06520   \n",
       "\n",
       "                    website           streetAddress1  ... regPctAllCars  \\\n",
       "0  http://www.princeton.edu                      N/A  ...           NaN   \n",
       "1   http://www.columbia.edu            2960 Broadway  ...           NaN   \n",
       "2   http://www.harvard.edu/                      N/A  ...           NaN   \n",
       "3       http://web.mit.edu/  77 Massachusetts Avenue  ...           9.0   \n",
       "4      http://www.yale.edu/                      N/A  ...           NaN   \n",
       "\n",
       "  schoolStatementText schoolStatementUrl schoolStatementUpdateDateTime  \\\n",
       "0                 NaN                NaN                           NaN   \n",
       "1                 NaN                NaN                           NaN   \n",
       "2                 NaN                NaN                           NaN   \n",
       "3                 NaN                NaN                           NaN   \n",
       "4                 NaN                NaN                           NaN   \n",
       "\n",
       "  dlHousingDeposit trfMinGpaCol trfGuaranteedAdmUrl vInStateTuition  \\\n",
       "0              NaN          NaN                 NaN             NaN   \n",
       "1              NaN          NaN                 NaN             NaN   \n",
       "2              NaN          NaN                 NaN             NaN   \n",
       "3              NaN          NaN                 NaN             NaN   \n",
       "4              NaN          NaN                 NaN             NaN   \n",
       "\n",
       "   vOutStateTuition  internationalTestReqMichiganTest  \n",
       "0               NaN                               NaN  \n",
       "1               NaN                               NaN  \n",
       "2               NaN                               NaN  \n",
       "3               NaN                               NaN  \n",
       "4               NaN                               NaN  \n",
       "\n",
       "[5 rows x 121 columns]"
      ]
     },
     "execution_count": 66,
     "metadata": {},
     "output_type": "execute_result"
    }
   ],
   "source": [
    "univ_df.head()"
   ]
  },
  {
   "cell_type": "markdown",
   "id": "cea236c2-dc3b-4ff1-a5d5-3b146bbfeded",
   "metadata": {},
   "source": [
    "### Tidy Data, Missing Data\n",
    "Looking at this data, you may notice that there are many nested values, represented as strings of JSON in this data frame."
   ]
  },
  {
   "cell_type": "code",
   "execution_count": 67,
   "id": "c739fc37-22b3-46b9-a256-f2ff7c665204",
   "metadata": {},
   "outputs": [
    {
     "data": {
      "text/plain": [
       "0          {'vPctUnderMen': 50, 'vPctUnderWomen': 50}\n",
       "1          {'vPctUnderMen': 49, 'vPctUnderWomen': 51}\n",
       "2          {'vPctUnderMen': 49, 'vPctUnderWomen': 51}\n",
       "3          {'vPctUnderMen': 52, 'vPctUnderWomen': 48}\n",
       "4          {'vPctUnderMen': 50, 'vPctUnderWomen': 50}\n",
       "                            ...                      \n",
       "387    {'vPctUnderMen': None, 'vPctUnderWomen': None}\n",
       "388        {'vPctUnderMen': 37, 'vPctUnderWomen': 63}\n",
       "389        {'vPctUnderMen': 40, 'vPctUnderWomen': 60}\n",
       "390        {'vPctUnderMen': 45, 'vPctUnderWomen': 55}\n",
       "391        {'vPctUnderMen': 35, 'vPctUnderWomen': 65}\n",
       "Name: gStudentGenderDistribution, Length: 392, dtype: object"
      ]
     },
     "execution_count": 67,
     "metadata": {},
     "output_type": "execute_result"
    }
   ],
   "source": [
    "univ_df[\"gStudentGenderDistribution\"]"
   ]
  },
  {
   "cell_type": "markdown",
   "id": "4f637545-b486-44fa-800b-d65f896fa2ff",
   "metadata": {},
   "source": [
    "One way we can deal with variables like these is by using `json_normalize` to split them up into separate columns:"
   ]
  },
  {
   "cell_type": "code",
   "execution_count": 68,
   "id": "4ff34f3e-70e1-452b-a558-9f663c3bba67",
   "metadata": {},
   "outputs": [
    {
     "data": {
      "text/html": [
       "<div>\n",
       "<style scoped>\n",
       "    .dataframe tbody tr th:only-of-type {\n",
       "        vertical-align: middle;\n",
       "    }\n",
       "\n",
       "    .dataframe tbody tr th {\n",
       "        vertical-align: top;\n",
       "    }\n",
       "\n",
       "    .dataframe thead th {\n",
       "        text-align: right;\n",
       "    }\n",
       "</style>\n",
       "<table border=\"1\" class=\"dataframe\">\n",
       "  <thead>\n",
       "    <tr style=\"text-align: right;\">\n",
       "      <th></th>\n",
       "      <th>gStudentGenderDistribution_vPctUnderMen</th>\n",
       "      <th>gStudentGenderDistribution_vPctUnderWomen</th>\n",
       "    </tr>\n",
       "  </thead>\n",
       "  <tbody>\n",
       "    <tr>\n",
       "      <th>0</th>\n",
       "      <td>50.0</td>\n",
       "      <td>50.0</td>\n",
       "    </tr>\n",
       "    <tr>\n",
       "      <th>1</th>\n",
       "      <td>49.0</td>\n",
       "      <td>51.0</td>\n",
       "    </tr>\n",
       "    <tr>\n",
       "      <th>2</th>\n",
       "      <td>49.0</td>\n",
       "      <td>51.0</td>\n",
       "    </tr>\n",
       "    <tr>\n",
       "      <th>3</th>\n",
       "      <td>52.0</td>\n",
       "      <td>48.0</td>\n",
       "    </tr>\n",
       "    <tr>\n",
       "      <th>4</th>\n",
       "      <td>50.0</td>\n",
       "      <td>50.0</td>\n",
       "    </tr>\n",
       "    <tr>\n",
       "      <th>...</th>\n",
       "      <td>...</td>\n",
       "      <td>...</td>\n",
       "    </tr>\n",
       "    <tr>\n",
       "      <th>387</th>\n",
       "      <td>NaN</td>\n",
       "      <td>NaN</td>\n",
       "    </tr>\n",
       "    <tr>\n",
       "      <th>388</th>\n",
       "      <td>37.0</td>\n",
       "      <td>63.0</td>\n",
       "    </tr>\n",
       "    <tr>\n",
       "      <th>389</th>\n",
       "      <td>40.0</td>\n",
       "      <td>60.0</td>\n",
       "    </tr>\n",
       "    <tr>\n",
       "      <th>390</th>\n",
       "      <td>45.0</td>\n",
       "      <td>55.0</td>\n",
       "    </tr>\n",
       "    <tr>\n",
       "      <th>391</th>\n",
       "      <td>35.0</td>\n",
       "      <td>65.0</td>\n",
       "    </tr>\n",
       "  </tbody>\n",
       "</table>\n",
       "<p>392 rows × 2 columns</p>\n",
       "</div>"
      ],
      "text/plain": [
       "     gStudentGenderDistribution_vPctUnderMen  \\\n",
       "0                                       50.0   \n",
       "1                                       49.0   \n",
       "2                                       49.0   \n",
       "3                                       52.0   \n",
       "4                                       50.0   \n",
       "..                                       ...   \n",
       "387                                      NaN   \n",
       "388                                     37.0   \n",
       "389                                     40.0   \n",
       "390                                     45.0   \n",
       "391                                     35.0   \n",
       "\n",
       "     gStudentGenderDistribution_vPctUnderWomen  \n",
       "0                                         50.0  \n",
       "1                                         51.0  \n",
       "2                                         51.0  \n",
       "3                                         48.0  \n",
       "4                                         50.0  \n",
       "..                                         ...  \n",
       "387                                        NaN  \n",
       "388                                       63.0  \n",
       "389                                       60.0  \n",
       "390                                       55.0  \n",
       "391                                       65.0  \n",
       "\n",
       "[392 rows x 2 columns]"
      ]
     },
     "execution_count": 68,
     "metadata": {},
     "output_type": "execute_result"
    }
   ],
   "source": [
    "univ_df = pd.json_normalize(univ_df.to_dict('records'), sep=\"_\") # un-nest the nested variables \n",
    "univ_df[[\"gStudentGenderDistribution_vPctUnderMen\", \"gStudentGenderDistribution_vPctUnderWomen\"]]"
   ]
  },
  {
   "cell_type": "markdown",
   "id": "a9580784-e860-49e7-aee0-a3c0c9bcb8bb",
   "metadata": {},
   "source": [
    "Another thing we need to deal with is the high number of missing data points, which results in the data being untidy -- in other words, there's a lot of columns which are close to empty."
   ]
  },
  {
   "cell_type": "code",
   "execution_count": 69,
   "id": "1c4bb6da-d27b-4fc6-9075-d179cfd01746",
   "metadata": {},
   "outputs": [
    {
     "data": {
      "text/plain": [
       "[Text(0.5, 0, 'Number of Rows Missing Data')]"
      ]
     },
     "execution_count": 69,
     "metadata": {},
     "output_type": "execute_result"
    },
    {
     "data": {
      "image/png": "[encoded data removed]",
      "text/plain": [
       "<Figure size 432x288 with 1 Axes>"
      ]
     },
     "metadata": {
      "needs_background": "light"
     },
     "output_type": "display_data"
    }
   ],
   "source": [
    "df_nas = univ_df.isna().sum()\n",
    "ax = sns.histplot(df_nas, discrete=True)\n",
    "ax.set(xlabel=\"Number of Rows Missing Data\") "
   ]
  },
  {
   "cell_type": "markdown",
   "id": "6b4cc28f-4185-49c4-a956-713a089eab6d",
   "metadata": {},
   "source": [
    "Most of the variables have few to no missing data, but there's a long tail to the right of 0 followed by a massive spike slightly under 400 (indicating that there are some variables where almost none of the rows have that data). For the values where there are too many missing points, the best solution is to just drop them, because they won't be particularly useful in our analysis anyways (since they contribute so little information). Let's use a somewhat arbitrary threshold of one third (so at least 2/3 of the data must be non-null)."
   ]
  },
  {
   "cell_type": "code",
   "execution_count": 64,
   "id": "5c5eb93a-b089-4d6d-9c53-ee0a435d964e",
   "metadata": {},
   "outputs": [
    {
     "data": {
      "text/html": [
       "<div>\n",
       "<style scoped>\n",
       "    .dataframe tbody tr th:only-of-type {\n",
       "        vertical-align: middle;\n",
       "    }\n",
       "\n",
       "    .dataframe tbody tr th {\n",
       "        vertical-align: top;\n",
       "    }\n",
       "\n",
       "    .dataframe thead th {\n",
       "        text-align: right;\n",
       "    }\n",
       "</style>\n",
       "<table border=\"1\" class=\"dataframe\">\n",
       "  <thead>\n",
       "    <tr style=\"text-align: right;\">\n",
       "      <th></th>\n",
       "      <th>primaryKey</th>\n",
       "      <th>xwalkId</th>\n",
       "      <th>urlName</th>\n",
       "      <th>displayName</th>\n",
       "      <th>shortName</th>\n",
       "      <th>city</th>\n",
       "      <th>state</th>\n",
       "      <th>zip</th>\n",
       "      <th>website</th>\n",
       "      <th>streetAddress1</th>\n",
       "      <th>...</th>\n",
       "      <th>gSororityMembers_stuCatSororityUg</th>\n",
       "      <th>gSororityMembers_stuCatNoSororityUg</th>\n",
       "      <th>csAvgCostIncome_nptLo</th>\n",
       "      <th>csAvgCostIncome_nptMed1</th>\n",
       "      <th>csAvgCostIncome_nptMed2</th>\n",
       "      <th>csAvgCostIncome_nptHi1</th>\n",
       "      <th>csAvgCostIncome_nptHi2</th>\n",
       "      <th>csTypicalDebtIncome_loIncDebtMdn</th>\n",
       "      <th>csTypicalDebtIncome_mdIncDebtMdn</th>\n",
       "      <th>csTypicalDebtIncome_hiIncDebtMdn</th>\n",
       "    </tr>\n",
       "  </thead>\n",
       "  <tbody>\n",
       "    <tr>\n",
       "      <th>0</th>\n",
       "      <td>2627</td>\n",
       "      <td>186131</td>\n",
       "      <td>princeton-university</td>\n",
       "      <td>Princeton University</td>\n",
       "      <td>Princeton University</td>\n",
       "      <td>Princeton</td>\n",
       "      <td>NJ</td>\n",
       "      <td>08544</td>\n",
       "      <td>http://www.princeton.edu</td>\n",
       "      <td>N/A</td>\n",
       "      <td>...</td>\n",
       "      <td>0</td>\n",
       "      <td>100</td>\n",
       "      <td>1386.0</td>\n",
       "      <td>2044.0</td>\n",
       "      <td>7576.0</td>\n",
       "      <td>16989.0</td>\n",
       "      <td>36747.0</td>\n",
       "      <td>3865.0</td>\n",
       "      <td>6001.0</td>\n",
       "      <td>12000.0</td>\n",
       "    </tr>\n",
       "    <tr>\n",
       "      <th>1</th>\n",
       "      <td>2707</td>\n",
       "      <td>190150</td>\n",
       "      <td>columbia-university</td>\n",
       "      <td>Columbia University</td>\n",
       "      <td>Columbia University</td>\n",
       "      <td>New York</td>\n",
       "      <td>NY</td>\n",
       "      <td>10027</td>\n",
       "      <td>http://www.columbia.edu</td>\n",
       "      <td>2960 Broadway</td>\n",
       "      <td>...</td>\n",
       "      <td>12</td>\n",
       "      <td>88</td>\n",
       "      <td>8916.0</td>\n",
       "      <td>4287.0</td>\n",
       "      <td>5887.0</td>\n",
       "      <td>18637.0</td>\n",
       "      <td>42199.0</td>\n",
       "      <td>24130.0</td>\n",
       "      <td>16750.0</td>\n",
       "      <td>15000.0</td>\n",
       "    </tr>\n",
       "    <tr>\n",
       "      <th>2</th>\n",
       "      <td>2155</td>\n",
       "      <td>166027</td>\n",
       "      <td>harvard-university</td>\n",
       "      <td>Harvard University</td>\n",
       "      <td>Harvard University</td>\n",
       "      <td>Cambridge</td>\n",
       "      <td>MA</td>\n",
       "      <td>02138</td>\n",
       "      <td>http://www.harvard.edu/</td>\n",
       "      <td>N/A</td>\n",
       "      <td>...</td>\n",
       "      <td>0</td>\n",
       "      <td>0</td>\n",
       "      <td>2973.0</td>\n",
       "      <td>1010.0</td>\n",
       "      <td>3411.0</td>\n",
       "      <td>15553.0</td>\n",
       "      <td>46160.0</td>\n",
       "      <td>12500.0</td>\n",
       "      <td>15000.0</td>\n",
       "      <td>10250.0</td>\n",
       "    </tr>\n",
       "    <tr>\n",
       "      <th>3</th>\n",
       "      <td>2178</td>\n",
       "      <td>166683</td>\n",
       "      <td>massachusetts-institute-of-technology</td>\n",
       "      <td>Massachusetts Institute of Technology</td>\n",
       "      <td>Massachusetts Institute of Technology</td>\n",
       "      <td>Cambridge</td>\n",
       "      <td>MA</td>\n",
       "      <td>02139</td>\n",
       "      <td>http://web.mit.edu/</td>\n",
       "      <td>77 Massachusetts Avenue</td>\n",
       "      <td>...</td>\n",
       "      <td>26</td>\n",
       "      <td>74</td>\n",
       "      <td>4535.0</td>\n",
       "      <td>1820.0</td>\n",
       "      <td>6049.0</td>\n",
       "      <td>14381.0</td>\n",
       "      <td>38934.0</td>\n",
       "      <td>6993.0</td>\n",
       "      <td>6155.0</td>\n",
       "      <td>13000.0</td>\n",
       "    </tr>\n",
       "    <tr>\n",
       "      <th>4</th>\n",
       "      <td>1426</td>\n",
       "      <td>130794</td>\n",
       "      <td>yale-university</td>\n",
       "      <td>Yale University</td>\n",
       "      <td>Yale University</td>\n",
       "      <td>New Haven</td>\n",
       "      <td>CT</td>\n",
       "      <td>06520</td>\n",
       "      <td>http://www.yale.edu/</td>\n",
       "      <td>N/A</td>\n",
       "      <td>...</td>\n",
       "      <td>0</td>\n",
       "      <td>0</td>\n",
       "      <td>2125.0</td>\n",
       "      <td>1647.0</td>\n",
       "      <td>2167.0</td>\n",
       "      <td>11492.0</td>\n",
       "      <td>43417.0</td>\n",
       "      <td>10163.0</td>\n",
       "      <td>8205.0</td>\n",
       "      <td>15857.0</td>\n",
       "    </tr>\n",
       "    <tr>\n",
       "      <th>...</th>\n",
       "      <td>...</td>\n",
       "      <td>...</td>\n",
       "      <td>...</td>\n",
       "      <td>...</td>\n",
       "      <td>...</td>\n",
       "      <td>...</td>\n",
       "      <td>...</td>\n",
       "      <td>...</td>\n",
       "      <td>...</td>\n",
       "      <td>...</td>\n",
       "      <td>...</td>\n",
       "      <td>...</td>\n",
       "      <td>...</td>\n",
       "      <td>...</td>\n",
       "      <td>...</td>\n",
       "      <td>...</td>\n",
       "      <td>...</td>\n",
       "      <td>...</td>\n",
       "      <td>...</td>\n",
       "      <td>...</td>\n",
       "      <td>...</td>\n",
       "    </tr>\n",
       "    <tr>\n",
       "      <th>387</th>\n",
       "      <td>2525</td>\n",
       "      <td>179964</td>\n",
       "      <td>william-woods-university</td>\n",
       "      <td>William Woods University</td>\n",
       "      <td>William Woods University</td>\n",
       "      <td>Fulton</td>\n",
       "      <td>MO</td>\n",
       "      <td>65251</td>\n",
       "      <td>http://www.williamwoods.edu</td>\n",
       "      <td>1 University Avenue</td>\n",
       "      <td>...</td>\n",
       "      <td>0</td>\n",
       "      <td>0</td>\n",
       "      <td>21691.0</td>\n",
       "      <td>26790.0</td>\n",
       "      <td>23510.0</td>\n",
       "      <td>24531.0</td>\n",
       "      <td>26885.0</td>\n",
       "      <td>11083.0</td>\n",
       "      <td>13800.0</td>\n",
       "      <td>16423.0</td>\n",
       "    </tr>\n",
       "    <tr>\n",
       "      <th>388</th>\n",
       "      <td>7948</td>\n",
       "      <td>131113</td>\n",
       "      <td>wilmington-university</td>\n",
       "      <td>Wilmington University</td>\n",
       "      <td>Wilmington University</td>\n",
       "      <td>New Castle</td>\n",
       "      <td>DE</td>\n",
       "      <td>19720</td>\n",
       "      <td>http://www.wilmu.edu</td>\n",
       "      <td>320 Dupont Highway</td>\n",
       "      <td>...</td>\n",
       "      <td>0</td>\n",
       "      <td>0</td>\n",
       "      <td>14599.0</td>\n",
       "      <td>15092.0</td>\n",
       "      <td>15400.0</td>\n",
       "      <td>18123.0</td>\n",
       "      <td>NaN</td>\n",
       "      <td>15105.0</td>\n",
       "      <td>15500.0</td>\n",
       "      <td>13971.0</td>\n",
       "    </tr>\n",
       "    <tr>\n",
       "      <th>389</th>\n",
       "      <td>2985</td>\n",
       "      <td>199962</td>\n",
       "      <td>wingate-university</td>\n",
       "      <td>Wingate University</td>\n",
       "      <td>Wingate University</td>\n",
       "      <td>Wingate</td>\n",
       "      <td>NC</td>\n",
       "      <td>28174</td>\n",
       "      <td>https://www.wingate.edu/</td>\n",
       "      <td>220 N. Camden Rd.</td>\n",
       "      <td>...</td>\n",
       "      <td>12</td>\n",
       "      <td>88</td>\n",
       "      <td>15876.0</td>\n",
       "      <td>16798.0</td>\n",
       "      <td>17415.0</td>\n",
       "      <td>21569.0</td>\n",
       "      <td>24421.0</td>\n",
       "      <td>9500.0</td>\n",
       "      <td>12000.0</td>\n",
       "      <td>12580.0</td>\n",
       "    </tr>\n",
       "    <tr>\n",
       "      <th>390</th>\n",
       "      <td>9168</td>\n",
       "      <td>206604</td>\n",
       "      <td>wright-state</td>\n",
       "      <td>Wright State University</td>\n",
       "      <td>Wright State</td>\n",
       "      <td>Dayton</td>\n",
       "      <td>OH</td>\n",
       "      <td>45435</td>\n",
       "      <td>http://www.wright.edu</td>\n",
       "      <td>3640 Colonel Glenn Highway</td>\n",
       "      <td>...</td>\n",
       "      <td>0</td>\n",
       "      <td>0</td>\n",
       "      <td>13460.0</td>\n",
       "      <td>14755.0</td>\n",
       "      <td>16908.0</td>\n",
       "      <td>19223.0</td>\n",
       "      <td>19515.0</td>\n",
       "      <td>15000.0</td>\n",
       "      <td>14199.0</td>\n",
       "      <td>13500.0</td>\n",
       "    </tr>\n",
       "    <tr>\n",
       "      <th>391</th>\n",
       "      <td>262086</td>\n",
       "      <td>262086</td>\n",
       "      <td>brandman-university</td>\n",
       "      <td>Brandman University</td>\n",
       "      <td>Brandman University</td>\n",
       "      <td>Irvine</td>\n",
       "      <td>CA</td>\n",
       "      <td>92618</td>\n",
       "      <td>http://www.brandman.edu</td>\n",
       "      <td>16355 Laguna Canyon Road</td>\n",
       "      <td>...</td>\n",
       "      <td>0</td>\n",
       "      <td>0</td>\n",
       "      <td>19981.0</td>\n",
       "      <td>24850.0</td>\n",
       "      <td>NaN</td>\n",
       "      <td>NaN</td>\n",
       "      <td>NaN</td>\n",
       "      <td>19672.0</td>\n",
       "      <td>19906.0</td>\n",
       "      <td>18750.0</td>\n",
       "    </tr>\n",
       "  </tbody>\n",
       "</table>\n",
       "<p>392 rows × 131 columns</p>\n",
       "</div>"
      ],
      "text/plain": [
       "    primaryKey xwalkId                                urlName  \\\n",
       "0         2627  186131                   princeton-university   \n",
       "1         2707  190150                    columbia-university   \n",
       "2         2155  166027                     harvard-university   \n",
       "3         2178  166683  massachusetts-institute-of-technology   \n",
       "4         1426  130794                        yale-university   \n",
       "..         ...     ...                                    ...   \n",
       "387       2525  179964               william-woods-university   \n",
       "388       7948  131113                  wilmington-university   \n",
       "389       2985  199962                     wingate-university   \n",
       "390       9168  206604                           wright-state   \n",
       "391     262086  262086                    brandman-university   \n",
       "\n",
       "                               displayName  \\\n",
       "0                     Princeton University   \n",
       "1                      Columbia University   \n",
       "2                       Harvard University   \n",
       "3    Massachusetts Institute of Technology   \n",
       "4                          Yale University   \n",
       "..                                     ...   \n",
       "387               William Woods University   \n",
       "388                  Wilmington University   \n",
       "389                     Wingate University   \n",
       "390                Wright State University   \n",
       "391                    Brandman University   \n",
       "\n",
       "                                 shortName        city state    zip  \\\n",
       "0                     Princeton University   Princeton    NJ  08544   \n",
       "1                      Columbia University    New York    NY  10027   \n",
       "2                       Harvard University   Cambridge    MA  02138   \n",
       "3    Massachusetts Institute of Technology   Cambridge    MA  02139   \n",
       "4                          Yale University   New Haven    CT  06520   \n",
       "..                                     ...         ...   ...    ...   \n",
       "387               William Woods University      Fulton    MO  65251   \n",
       "388                  Wilmington University  New Castle    DE  19720   \n",
       "389                     Wingate University     Wingate    NC  28174   \n",
       "390                           Wright State      Dayton    OH  45435   \n",
       "391                    Brandman University      Irvine    CA  92618   \n",
       "\n",
       "                         website              streetAddress1  ...  \\\n",
       "0       http://www.princeton.edu                         N/A  ...   \n",
       "1        http://www.columbia.edu               2960 Broadway  ...   \n",
       "2        http://www.harvard.edu/                         N/A  ...   \n",
       "3            http://web.mit.edu/     77 Massachusetts Avenue  ...   \n",
       "4           http://www.yale.edu/                         N/A  ...   \n",
       "..                           ...                         ...  ...   \n",
       "387  http://www.williamwoods.edu         1 University Avenue  ...   \n",
       "388         http://www.wilmu.edu          320 Dupont Highway  ...   \n",
       "389     https://www.wingate.edu/           220 N. Camden Rd.  ...   \n",
       "390        http://www.wright.edu  3640 Colonel Glenn Highway  ...   \n",
       "391      http://www.brandman.edu    16355 Laguna Canyon Road  ...   \n",
       "\n",
       "    gSororityMembers_stuCatSororityUg gSororityMembers_stuCatNoSororityUg  \\\n",
       "0                                   0                                 100   \n",
       "1                                  12                                  88   \n",
       "2                                   0                                   0   \n",
       "3                                  26                                  74   \n",
       "4                                   0                                   0   \n",
       "..                                ...                                 ...   \n",
       "387                                 0                                   0   \n",
       "388                                 0                                   0   \n",
       "389                                12                                  88   \n",
       "390                                 0                                   0   \n",
       "391                                 0                                   0   \n",
       "\n",
       "    csAvgCostIncome_nptLo csAvgCostIncome_nptMed1 csAvgCostIncome_nptMed2  \\\n",
       "0                  1386.0                  2044.0                  7576.0   \n",
       "1                  8916.0                  4287.0                  5887.0   \n",
       "2                  2973.0                  1010.0                  3411.0   \n",
       "3                  4535.0                  1820.0                  6049.0   \n",
       "4                  2125.0                  1647.0                  2167.0   \n",
       "..                    ...                     ...                     ...   \n",
       "387               21691.0                 26790.0                 23510.0   \n",
       "388               14599.0                 15092.0                 15400.0   \n",
       "389               15876.0                 16798.0                 17415.0   \n",
       "390               13460.0                 14755.0                 16908.0   \n",
       "391               19981.0                 24850.0                     NaN   \n",
       "\n",
       "    csAvgCostIncome_nptHi1 csAvgCostIncome_nptHi2  \\\n",
       "0                  16989.0                36747.0   \n",
       "1                  18637.0                42199.0   \n",
       "2                  15553.0                46160.0   \n",
       "3                  14381.0                38934.0   \n",
       "4                  11492.0                43417.0   \n",
       "..                     ...                    ...   \n",
       "387                24531.0                26885.0   \n",
       "388                18123.0                    NaN   \n",
       "389                21569.0                24421.0   \n",
       "390                19223.0                19515.0   \n",
       "391                    NaN                    NaN   \n",
       "\n",
       "     csTypicalDebtIncome_loIncDebtMdn  csTypicalDebtIncome_mdIncDebtMdn  \\\n",
       "0                              3865.0                            6001.0   \n",
       "1                             24130.0                           16750.0   \n",
       "2                             12500.0                           15000.0   \n",
       "3                              6993.0                            6155.0   \n",
       "4                             10163.0                            8205.0   \n",
       "..                                ...                               ...   \n",
       "387                           11083.0                           13800.0   \n",
       "388                           15105.0                           15500.0   \n",
       "389                            9500.0                           12000.0   \n",
       "390                           15000.0                           14199.0   \n",
       "391                           19672.0                           19906.0   \n",
       "\n",
       "    csTypicalDebtIncome_hiIncDebtMdn  \n",
       "0                            12000.0  \n",
       "1                            15000.0  \n",
       "2                            10250.0  \n",
       "3                            13000.0  \n",
       "4                            15857.0  \n",
       "..                               ...  \n",
       "387                          16423.0  \n",
       "388                          13971.0  \n",
       "389                          12580.0  \n",
       "390                          13500.0  \n",
       "391                          18750.0  \n",
       "\n",
       "[392 rows x 131 columns]"
      ]
     },
     "execution_count": 64,
     "metadata": {},
     "output_type": "execute_result"
    }
   ],
   "source": [
    "univ_df.dropna(axis=1, thresh=len(univ_df)*2//3, inplace=True)\n",
    "univ_df"
   ]
  },
  {
   "cell_type": "markdown",
   "id": "cac65f4f-1594-473d-84c1-319c78f10386",
   "metadata": {},
   "source": [
    "This still leaves us with a large number of data values which have a relatively high number of missing values, however. The way these are handled depends on the situation at hand, so I cannot just deal with them all of them at once. "
   ]
  },
  {
   "cell_type": "markdown",
   "id": "6441d15a-260e-44cd-bd5b-7530d7a8eefa",
   "metadata": {},
   "source": [
    "### What *Is* The US News Ranking?"
   ]
  },
  {
   "cell_type": "markdown",
   "id": "e42ca549-66d0-467d-91b7-63265fb8ee2c",
   "metadata": {},
   "source": [
    "US News gives all colleges a score on a scale from 0 to 100, where a higher number is better. This is based on a number of factors which they describe on [their website](https://www.washingtonpost.com/education/2018/09/12/us-news-changed-way-it-ranks-colleges-its-still-ridiculous/). Unfortunately, unless you pay for premium access, you are only able to see a small portion of the factors that go into the ranking:\n",
    "\n",
    "![image.png](attachment:3abe5a2e-0dae-4dbc-9b16-4c15fa782f62.png)\n",
    "\n",
    "This means that it's impossible for us to perfectly re-calculate the rankings from this data.  \n",
    "\n",
    "First, let's take a look at a random sample of the rankings:"
   ]
  },
  {
   "cell_type": "code",
   "execution_count": 71,
   "id": "5f9fecfa-48b8-4cfc-966f-cda1bb8098b0",
   "metadata": {},
   "outputs": [
    {
     "data": {
      "text/plain": [
       "146            56\n",
       "288            42\n",
       "48             70\n",
       "23             81\n",
       "248            45\n",
       "14             88\n",
       "291            42\n",
       "226            47\n",
       "387    Bottom 25%\n",
       "247            46\n",
       "20             83\n",
       "36             76\n",
       "114            60\n",
       "174            53\n",
       "74             65\n",
       "308    Bottom 25%\n",
       "216            48\n",
       "150            55\n",
       "346    Bottom 25%\n",
       "137            56\n",
       "362    Bottom 25%\n",
       "304    Bottom 25%\n",
       "38             74\n",
       "33             77\n",
       "162            54\n",
       "240            46\n",
       "9              93\n",
       "269            44\n",
       "298    Bottom 25%\n",
       "229            47\n",
       "Name: vDisplayScore, dtype: object"
      ]
     },
     "execution_count": 71,
     "metadata": {},
     "output_type": "execute_result"
    }
   ],
   "source": [
    "univ_df.sample(30)['vDisplayScore']"
   ]
  },
  {
   "cell_type": "markdown",
   "id": "099f594c-a783-416e-a653-512bc26dfce0",
   "metadata": {},
   "source": [
    "We can see that some of the values, instead of being numeric, are instead the text value \"Bottom 25%\". This is because US News doesn't report a score for any university in the bottom 25 percent of the data. In order to do a numeric analysis, we have to discard those values. However, this is likely to have an impact on our analysis, so we need to keep it in mind. In data science terms, this data is technically **Missing Not At Random (MNAR)**, because while the rank is dependent on some of the factors that we have in the data set, there are other factors that we can't access that also have an effect (locked only for Premium users). The only statistically appropriate thing to do here is to remove the missing data, then restrict the domain of this analysis -- in other words, **all of the following calculations regarding the university scores only apply to universities in the top 75 percentile of US News rankings**. "
   ]
  },
  {
   "cell_type": "code",
   "execution_count": 72,
   "id": "e885e4da-06d3-4738-86a7-f47dc9dc2dad",
   "metadata": {},
   "outputs": [],
   "source": [
    "univ_df[\"vDisplayScoreInt\"] = univ_df[\"vDisplayScore\"].apply(lambda x: x if isinstance(x,int) else np.nan)"
   ]
  },
  {
   "cell_type": "markdown",
   "id": "442776fd-13f3-4c53-b978-1f2586743b9e",
   "metadata": {},
   "source": [
    "After that, let's look at the distribution of the remaining scores:"
   ]
  },
  {
   "cell_type": "code",
   "execution_count": 73,
   "id": "4af3ce3c-da9a-433c-98ed-aa7cc2cf99f3",
   "metadata": {},
   "outputs": [
    {
     "data": {
      "text/plain": [
       "<AxesSubplot:xlabel='vDisplayScoreInt', ylabel='Count'>"
      ]
     },
     "execution_count": 73,
     "metadata": {},
     "output_type": "execute_result"
    },
    {
     "data": {
      "image/png": "[encoded data removed]",
      "text/plain": [
       "<Figure size 432x288 with 1 Axes>"
      ]
     },
     "metadata": {
      "needs_background": "light"
     },
     "output_type": "display_data"
    }
   ],
   "source": [
    "sns.histplot(x=\"vDisplayScoreInt\",data=univ_df,bins=14)"
   ]
  },
  {
   "cell_type": "markdown",
   "id": "13f137e0-6395-48b7-99f5-1871dc74e137",
   "metadata": {},
   "source": [
    "The display scores appear to have a strong rightward skew -- in other words, there are many values in the 40s and 60s, there are only a few with a score of 90 or above. However, despite the ranking scale going from 0 to 100, the minimum value in this data set is only in the low 40s, on account of the missing 25 percent. It's possible (or even likely) that there is supposed to be a similar tail on the left side of this distribution that is not included in the data. "
   ]
  },
  {
   "cell_type": "markdown",
   "id": "97eec5bb-da4e-4404-8455-464cf33de151",
   "metadata": {
    "tags": []
   },
   "source": [
    "## Exploring Known Factors For Ranks & Predicting"
   ]
  },
  {
   "cell_type": "markdown",
   "id": "f1b46308-a7c5-45cb-9721-63e6c5e62d2a",
   "metadata": {},
   "source": [
    "A non-paying reader of the US News website can only see data about the average graduation rate, student class sizes, and the student-faculty ratio. But how much do those factors matter? Is the correlation between the different factors strong enough that we can predict the rankings using only the factors that we can access for free? \n",
    "\n",
    "(**NOTE:** Ordinarily you would do complete EDA (Exploratory Data Analysis) before prediction, but since I already know there is a relationship here I'm going straight into prediction.)"
   ]
  },
  {
   "cell_type": "code",
   "execution_count": 74,
   "id": "d83695bf-3ece-456d-8127-9a2f18a3d104",
   "metadata": {},
   "outputs": [],
   "source": [
    "ranking_factors = [\"rCAvgPctGrad6Yr\", \"pellGradRate\",  \"nonPellGradrate\", \n",
    "                   \"rCPctClasses119\", \"rCPctClassesGt50\", \"vStudentFacultyRatio\"]\n",
    "univ_df_known_rank = univ_df[[\"vDisplayScoreInt\"] + ranking_factors]"
   ]
  },
  {
   "cell_type": "markdown",
   "id": "9fe973e1-5f18-4131-be72-3093ce310040",
   "metadata": {},
   "source": [
    "For one, we need to address the issue with the student-faculty ratio -- namely, that it's a string, not numeric. "
   ]
  },
  {
   "cell_type": "code",
   "execution_count": 75,
   "id": "292eae40-13d5-4575-9836-70cbcfa8fd48",
   "metadata": {},
   "outputs": [],
   "source": [
    "univ_df[\"vStudentFacultyRatio\"] = univ_df[\"vStudentFacultyRatio\"].apply(\\\n",
    "                        lambda x: int(x[:-2]) if pd.notna(x) else np.nan)"
   ]
  },
  {
   "cell_type": "markdown",
   "id": "c987c31a-f59f-4f91-86b6-43c2484b46b7",
   "metadata": {},
   "source": [
    "Let's also look at the number of missing values in the factors:"
   ]
  },
  {
   "cell_type": "code",
   "execution_count": 76,
   "id": "e324fabb-4c06-4343-aee3-900feb229e05",
   "metadata": {},
   "outputs": [
    {
     "data": {
      "text/plain": [
       "vDisplayScoreInt        0\n",
       "rCAvgPctGrad6Yr         0\n",
       "pellGradRate            8\n",
       "nonPellGradrate         8\n",
       "rCPctClasses119         2\n",
       "rCPctClassesGt50        2\n",
       "vStudentFacultyRatio    6\n",
       "dtype: int64"
      ]
     },
     "execution_count": 76,
     "metadata": {},
     "output_type": "execute_result"
    }
   ],
   "source": [
    "temp_rank = univ_df_known_rank.copy().dropna(subset=[\"vDisplayScoreInt\"])\n",
    "temp_rank.isna().sum()"
   ]
  },
  {
   "cell_type": "markdown",
   "id": "e43a113d-2b43-456e-8d64-b62c45e9109d",
   "metadata": {},
   "source": [
    "There are few to no missing data values within the set of universities in teh 75th percentile, so dealing with these values is of minor concern. \n",
    "\n",
    "US News says that the ranking is calculated by using the \"sum\" of various factors weighted by some percentages. This implies that we should use a linear regression model -- simply take the values in the data set, scale them based on the percentage weights described on the website, and use that as a predictor. However, in order for this model to make sense, we have to make the assumption that the variables vary linearly with respect to desired output variable (the score). Let's check that graphically:"
   ]
  },
  {
   "cell_type": "code",
   "execution_count": 21,
   "id": "c3fb7b57-d216-43fd-8782-057649b5d7e2",
   "metadata": {},
   "outputs": [
    {
     "data": {
      "image/png": "[encoded data removed]",
      "text/plain": [
       "<Figure size 720x576 with 6 Axes>"
      ]
     },
     "metadata": {
      "needs_background": "light"
     },
     "output_type": "display_data"
    }
   ],
   "source": [
    "from math import ceil \n",
    "\n",
    "def plot_factors_against_score(ranking_factors, ncols, df=univ_df):\n",
    "    fig, axes = plt.subplots(nrows=ceil(len(ranking_factors)/ncols), ncols=ncols, figsize=(10,8))\n",
    "    fig.tight_layout(pad=3.0)\n",
    "    for col, ax in zip(ranking_factors, fig.axes):\n",
    "        sns.scatterplot(ax=ax, x=col, y=\"vDisplayScoreInt\", data=df)\n",
    "        ax.set(xlabel=data_key.get(col, col), ylabel=\"Score\")\n",
    "        \n",
    "plot_factors_against_score(ranking_factors, 2)"
   ]
  },
  {
   "cell_type": "markdown",
   "id": "e0a73125-14aa-4a4d-b3ba-5aae452f03e3",
   "metadata": {},
   "source": [
    "This data is very interesting -- some of these appear to have little to no correlation with the data (specifically those relating to class sizes) and some of these have a quite strong, *non-linear* relationship (specifically those regarding graduation rates). Therefore, a linear model is definitely not a good idea here.\n",
    "\n",
    "The apparent strength of the graduation rate versus score relationship on the graph makes me wonder about how well a polynomial predictive model could do when input only the 6-year graduation rate (i.e. a single-variable model). After some experimentation, I found that a degree 3 polynomial yields sufficient accuracy while also not overfitting the data."
   ]
  },
  {
   "cell_type": "code",
   "execution_count": 22,
   "id": "a548fce3-faa1-406d-8bfc-93f09204e604",
   "metadata": {},
   "outputs": [],
   "source": [
    "#https://ostwalprasad.github.io/machine-learning/Polynomial-Regression-using-statsmodel.html\n",
    "from sklearn.preprocessing import PolynomialFeatures\n",
    "\n",
    "# Extract the relevant data from the data frame, getting rid of NAs\n",
    "univ_df_no_na = univ_df[pd.notna(univ_df[\"vDisplayScoreInt\"])]\n",
    "x = univ_df_no_na[\"rCAvgPctGrad6Yr\"].ravel().reshape(-1, 1)\n",
    "y = univ_df_no_na[\"vDisplayScoreInt\"]\n",
    "\n",
    "# Calculate the polynomial feature from the input data\n",
    "polynomial_features= PolynomialFeatures(degree=3)\n",
    "xp = polynomial_features.fit_transform(x)"
   ]
  },
  {
   "cell_type": "code",
   "execution_count": 23,
   "id": "ca861d4d-2999-4825-bd09-eeaec90cb4b0",
   "metadata": {},
   "outputs": [
    {
     "data": {
      "text/plain": [
       "[Text(0.5, 32.99999999999995, 'Average 6-year graduation rate (17.6%)'),\n",
       " Text(27.125, 0.5, 'Score (out of 100)')]"
      ]
     },
     "execution_count": 23,
     "metadata": {},
     "output_type": "execute_result"
    },
    {
     "data": {
      "text/plain": [
       "<Figure size 720x720 with 0 Axes>"
      ]
     },
     "metadata": {},
     "output_type": "display_data"
    },
    {
     "data": {
      "image/png": "[encoded data removed]",
      "text/plain": [
       "<Figure size 432x432 with 3 Axes>"
      ]
     },
     "metadata": {
      "needs_background": "light"
     },
     "output_type": "display_data"
    }
   ],
   "source": [
    "# Generate the model\n",
    "import statsmodels.api as sm\n",
    "model = sm.OLS(y,xp).fit()\n",
    "ypred = model.predict(xp) \n",
    "\n",
    "# Display the scatterplot between the graduation rate and score rant, and show histograms of each variable \n",
    "plt.figure(figsize=(10, 10))\n",
    "jp = sns.jointplot(x=\"rCAvgPctGrad6Yr\",y=\"vDisplayScoreInt\",data=univ_df)\n",
    "\n",
    "# Plot the regression data\n",
    "x, ypred = zip(*sorted(zip(x, ypred)))\n",
    "ax = jp.figure.axes[0]\n",
    "ax.plot(x,ypred, 'r')  \n",
    "ax.set(xlabel=data_key[\"rCAvgPctGrad6Yr\"], ylabel=data_key[\"vDisplayScore\"])"
   ]
  },
  {
   "cell_type": "code",
   "execution_count": 24,
   "id": "710fc62e-0067-4819-80ca-585dfe849195",
   "metadata": {},
   "outputs": [
    {
     "data": {
      "text/html": [
       "<table class=\"simpletable\">\n",
       "<caption>OLS Regression Results</caption>\n",
       "<tr>\n",
       "  <th>Dep. Variable:</th>    <td>vDisplayScoreInt</td> <th>  R-squared:         </th> <td>   0.900</td> \n",
       "</tr>\n",
       "<tr>\n",
       "  <th>Model:</th>                   <td>OLS</td>       <th>  Adj. R-squared:    </th> <td>   0.899</td> \n",
       "</tr>\n",
       "<tr>\n",
       "  <th>Method:</th>             <td>Least Squares</td>  <th>  F-statistic:       </th> <td>   879.5</td> \n",
       "</tr>\n",
       "<tr>\n",
       "  <th>Date:</th>             <td>Mon, 20 Dec 2021</td> <th>  Prob (F-statistic):</th> <td>1.90e-146</td>\n",
       "</tr>\n",
       "<tr>\n",
       "  <th>Time:</th>                 <td>15:59:38</td>     <th>  Log-Likelihood:    </th> <td> -855.14</td> \n",
       "</tr>\n",
       "<tr>\n",
       "  <th>No. Observations:</th>      <td>   298</td>      <th>  AIC:               </th> <td>   1718.</td> \n",
       "</tr>\n",
       "<tr>\n",
       "  <th>Df Residuals:</th>          <td>   294</td>      <th>  BIC:               </th> <td>   1733.</td> \n",
       "</tr>\n",
       "<tr>\n",
       "  <th>Df Model:</th>              <td>     3</td>      <th>                     </th>     <td> </td>    \n",
       "</tr>\n",
       "<tr>\n",
       "  <th>Covariance Type:</th>      <td>nonrobust</td>    <th>                     </th>     <td> </td>    \n",
       "</tr>\n",
       "</table>\n",
       "<table class=\"simpletable\">\n",
       "<tr>\n",
       "    <td></td>       <th>coef</th>     <th>std err</th>      <th>t</th>      <th>P>|t|</th>  <th>[0.025</th>    <th>0.975]</th>  \n",
       "</tr>\n",
       "<tr>\n",
       "  <th>const</th> <td>  -30.6150</td> <td>   28.749</td> <td>   -1.065</td> <td> 0.288</td> <td>  -87.196</td> <td>   25.966</td>\n",
       "</tr>\n",
       "<tr>\n",
       "  <th>x1</th>    <td>    3.6685</td> <td>    1.273</td> <td>    2.883</td> <td> 0.004</td> <td>    1.164</td> <td>    6.173</td>\n",
       "</tr>\n",
       "<tr>\n",
       "  <th>x2</th>    <td>   -0.0627</td> <td>    0.018</td> <td>   -3.415</td> <td> 0.001</td> <td>   -0.099</td> <td>   -0.027</td>\n",
       "</tr>\n",
       "<tr>\n",
       "  <th>x3</th>    <td>    0.0004</td> <td> 8.66e-05</td> <td>    4.546</td> <td> 0.000</td> <td>    0.000</td> <td>    0.001</td>\n",
       "</tr>\n",
       "</table>\n",
       "<table class=\"simpletable\">\n",
       "<tr>\n",
       "  <th>Omnibus:</th>       <td> 1.801</td> <th>  Durbin-Watson:     </th> <td>   1.674</td>\n",
       "</tr>\n",
       "<tr>\n",
       "  <th>Prob(Omnibus):</th> <td> 0.406</td> <th>  Jarque-Bera (JB):  </th> <td>   1.739</td>\n",
       "</tr>\n",
       "<tr>\n",
       "  <th>Skew:</th>          <td> 0.187</td> <th>  Prob(JB):          </th> <td>   0.419</td>\n",
       "</tr>\n",
       "<tr>\n",
       "  <th>Kurtosis:</th>      <td> 2.977</td> <th>  Cond. No.          </th> <td>5.25e+07</td>\n",
       "</tr>\n",
       "</table><br/><br/>Notes:<br/>[1] Standard Errors assume that the covariance matrix of the errors is correctly specified.<br/>[2] The condition number is large, 5.25e+07. This might indicate that there are<br/>strong multicollinearity or other numerical problems."
      ],
      "text/plain": [
       "<class 'statsmodels.iolib.summary.Summary'>\n",
       "\"\"\"\n",
       "                            OLS Regression Results                            \n",
       "==============================================================================\n",
       "Dep. Variable:       vDisplayScoreInt   R-squared:                       0.900\n",
       "Model:                            OLS   Adj. R-squared:                  0.899\n",
       "Method:                 Least Squares   F-statistic:                     879.5\n",
       "Date:                Mon, 20 Dec 2021   Prob (F-statistic):          1.90e-146\n",
       "Time:                        15:59:38   Log-Likelihood:                -855.14\n",
       "No. Observations:                 298   AIC:                             1718.\n",
       "Df Residuals:                     294   BIC:                             1733.\n",
       "Df Model:                           3                                         \n",
       "Covariance Type:            nonrobust                                         \n",
       "==============================================================================\n",
       "                 coef    std err          t      P>|t|      [0.025      0.975]\n",
       "------------------------------------------------------------------------------\n",
       "const        -30.6150     28.749     -1.065      0.288     -87.196      25.966\n",
       "x1             3.6685      1.273      2.883      0.004       1.164       6.173\n",
       "x2            -0.0627      0.018     -3.415      0.001      -0.099      -0.027\n",
       "x3             0.0004   8.66e-05      4.546      0.000       0.000       0.001\n",
       "==============================================================================\n",
       "Omnibus:                        1.801   Durbin-Watson:                   1.674\n",
       "Prob(Omnibus):                  0.406   Jarque-Bera (JB):                1.739\n",
       "Skew:                           0.187   Prob(JB):                        0.419\n",
       "Kurtosis:                       2.977   Cond. No.                     5.25e+07\n",
       "==============================================================================\n",
       "\n",
       "Notes:\n",
       "[1] Standard Errors assume that the covariance matrix of the errors is correctly specified.\n",
       "[2] The condition number is large, 5.25e+07. This might indicate that there are\n",
       "strong multicollinearity or other numerical problems.\n",
       "\"\"\""
      ]
     },
     "execution_count": 24,
     "metadata": {},
     "output_type": "execute_result"
    }
   ],
   "source": [
    "model.summary()"
   ]
  },
  {
   "cell_type": "markdown",
   "id": "5336d275-e619-4f3b-8a7d-fcbe612a3ff9",
   "metadata": {
    "tags": []
   },
   "source": [
    "With an R-squared of 0.9, we can see this is a really good predictor of ranking, even though it apparently only accounts for 17.6 percent of the ranking calculation. Furthermore, the p-values of the various factors are significantly below the standard threshold of 0.05, so they are clearly statistically significant."
   ]
  },
  {
   "cell_type": "markdown",
   "id": "ad5d8773-44fe-4c23-899f-7bcefa5fe2fa",
   "metadata": {
    "tags": []
   },
   "source": [
    "#### Transforming The Data\n",
    "However, it's unusual that the relationship isn't linear. Since these metrics are artificially created by US News, one would expect there to be a more obvious mathematical relationship between the ranking factors and the rank. According to the [US News website](https://www.usnews.com/education/best-colleges/articles/how-us-news-calculated-the-rankings), they \"normalize\" the values before they are put into the calculation. This may mean that instead of looking at the raw value, we should look at the *z-score* of each ranking, which is a measure that describes how far away from the mean the value is. In fact, US News says that they \"z-scored\" the *predicted* graduation rate [in the supplementary material on their website](https://www.usnews.com/media/best-colleges/graduation-rate-performance). However, for z-score to be a useful measure, we would also need to make the assumption that scores are normally distributed. Let's check that first, by observation: "
   ]
  },
  {
   "cell_type": "code",
   "execution_count": 25,
   "id": "cdd66f2f-6062-489f-a7e2-5806624cb25f",
   "metadata": {},
   "outputs": [
    {
     "data": {
      "text/plain": [
       "<AxesSubplot:xlabel='rCAvgPctGrad6Yr', ylabel='Count'>"
      ]
     },
     "execution_count": 25,
     "metadata": {},
     "output_type": "execute_result"
    },
    {
     "data": {
      "image/png": "[encoded data removed]",
      "text/plain": [
       "<Figure size 432x288 with 1 Axes>"
      ]
     },
     "metadata": {
      "needs_background": "light"
     },
     "output_type": "display_data"
    }
   ],
   "source": [
    "sns.histplot(x=\"rCAvgPctGrad6Yr\",data=univ_df,bins=14)"
   ]
  },
  {
   "cell_type": "markdown",
   "id": "21195166-b413-4168-b0c2-8985b0edc6ee",
   "metadata": {},
   "source": [
    "(Note: this is including the schools with the bottom 25 percent score, which is desired in this case.) \n",
    "\n",
    "This data has a meaningful leftward skew. To quantify this more accurately, we can use a QQ plot, which compares the *quantiles* (percentiles) of the sample with what would be expected if the sample was normally distributed. If the sample is perfectly normal, then we would expect to see a perfect line. "
   ]
  },
  {
   "cell_type": "code",
   "execution_count": 26,
   "id": "58d0ea5e-b771-440f-b2eb-3f90ef574aa6",
   "metadata": {},
   "outputs": [
    {
     "data": {
      "image/png": "[encoded data removed]",
      "text/plain": [
       "<Figure size 432x288 with 1 Axes>"
      ]
     },
     "metadata": {
      "needs_background": "light"
     },
     "output_type": "display_data"
    }
   ],
   "source": [
    "ax = sm.qqplot(univ_df[\"rCAvgPctGrad6Yr\"], line=\"q\")"
   ]
  },
  {
   "cell_type": "markdown",
   "id": "f9b21fdf-5c07-4b1b-bfe2-fc1e7349a1c9",
   "metadata": {
    "tags": []
   },
   "source": [
    "The deviation from the line at the lower and higher quantiles shows that this isn't exactly normal, so it's unlikely that US News would use this for normalization. We can double-check by looking at the scatterplot with the z-scores:"
   ]
  },
  {
   "cell_type": "code",
   "execution_count": 43,
   "id": "8113962d-e09a-44d7-b61b-c1233499b5da",
   "metadata": {},
   "outputs": [
    {
     "data": {
      "text/plain": [
       "[Text(0.5, 32.99999999999995, 'Average 6-Year Graduation Percentage (z-score)'),\n",
       " Text(27.125, 0.5, 'Score')]"
      ]
     },
     "execution_count": 43,
     "metadata": {},
     "output_type": "execute_result"
    },
    {
     "data": {
      "image/png": "[encoded data removed]",
      "text/plain": [
       "<Figure size 432x432 with 3 Axes>"
      ]
     },
     "metadata": {
      "needs_background": "light"
     },
     "output_type": "display_data"
    }
   ],
   "source": [
    "univ_df[\"rCAvgPctGrad6YrZScore\"] = (univ_df[\"rCAvgPctGrad6Yr\"] -univ_df[\"rCAvgPctGrad6Yr\"].mean())/univ_df[\"rCAvgPctGrad6Yr\"].std(ddof=0)\n",
    "jp = sns.jointplot(x=\"rCAvgPctGrad6YrZScore\",y=\"vDisplayScoreInt\", data=univ_df)\n",
    "jp.figure.axes[0].set(xlabel=\"Average 6-Year Graduation Percentage (z-score)\", ylabel=\"Score\")"
   ]
  },
  {
   "cell_type": "markdown",
   "id": "dacb2b31-ee9a-4e91-bae6-0c0724916d73",
   "metadata": {},
   "source": [
    "That didn't change anything about the relationship. Another possible method of normalization is using percentiles -- does that \"fix\" the nonlinearity?"
   ]
  },
  {
   "cell_type": "code",
   "execution_count": null,
   "id": "b73dea07-de84-46ef-9c89-4225ae62b766",
   "metadata": {},
   "outputs": [],
   "source": [
    "from scipy import stats\n",
    "univ_df[\"rCAvgPctGrad6YrPercentile\"] = univ_df[\"rCAvgPctGrad6Yr\"].apply(lambda x: stats.percentileofscore(univ_df[\"rCAvgPctGrad6Yr\"], x))\n",
    "jp = sns.jointplot(x=\"rCAvgPctGrad6YrPercentile\",y=\"vDisplayScore\", data=univ_df)\n",
    "jp.figure.axes[0].set(xlabel=\"Average 6-Year Graduation Percentage (percentile)\", ylabel=\"Score\")"
   ]
  },
  {
   "cell_type": "markdown",
   "id": "6aa5beb3-bd26-40d2-aa57-0cb76a023c9a",
   "metadata": {},
   "source": [
    "And we still see a non-linear relationship. This could indicate that US News uses a different normalization than expected, and doesn't explain how it works, or there is some other variable with a non-linear relationship to graduation rate that is also part of the rankings. Unfortunately, the limited data set doesn't allow much further analysis."
   ]
  },
  {
   "cell_type": "markdown",
   "id": "ba5dabe0-713d-41ac-a098-6afa156107b8",
   "metadata": {},
   "source": [
    "### Outcomes\n",
    "(For outcomes) it compares against the \"predicted rate for that cohort\". To do this, they use factors including the 25th and 75th percentile ACT and SAT scores of those freshmen and the percentage of 2014 entering class students who placed in the top 10 of their year in their high school, among others [(as seen on the website)](https://www.usnews.com/media/best-colleges/graduation-rate-performance). \n",
    "\n",
    "- The five year non-weighted average of percentages of 2014-2015 through 2018- 2019 full-time, first-time undergraduates receiving Pell Grants, sourced from IPEDS.\n",
    "- The natural log value of the two-year average of expenditures per student using data from fiscal years 2016 and 2017, sourced from U.S. News statistical surveys and IPEDS.\n",
    "- The 25th and 75th percentile ACT and SAT scores of schools’ fall 2014 entering classes, sourced from U.S. News statistical surveys and IPEDS. For use in the model, the midpoint between the percentile scores for each exam (ACT composite, critical reading SAT, math SAT) was calculated, converted to its percentile distribution among test-takers, and weighted by the proportion of new entrant that took SAT and ACT. For any institution whose combined percentage of its fall 2014 class submitting ACT and SAT scores was less than 75% of new entrants, its percentile distribution was discounted by 0.85, as U.S. had done for its 2015 rankings calculations.\n",
    "- The cubed value of the standardized tests value used in the model.\n",
    "- The proportion of the 2016-2017 federal financial aid receiving undergraduates who were first-generation students; sourced from College Scorecard. \n",
    "- National Universities and National Liberal Arts Colleges incorporated the percentage of 2014 entering class students placing in the top 10 percent of their high school classes. Regional universities and colleges used percentages placing in the top 25 percent. The data were sourced from U.S. News statistical surveys. \n",
    "- National Universities only incorporated the percentage of 2016-2017 graduates awarded degrees in science, technology, engineering and mathematics (STEM) fields – mapped from the U.S. Department of Homeland Security’s NCES CIP code STEM designation.\n",
    "\n",
    "#### TODO Calculate Cohort Data To The Best Approximation Possible "
   ]
  },
  {
   "cell_type": "code",
   "execution_count": null,
   "id": "166726a1-2986-43c0-b8cc-2652eaaeb466",
   "metadata": {},
   "outputs": [],
   "source": [
    "from collections import Counter\n",
    "\n",
    "majors = univ_df[\"topMajors\"][univ_df[\"topMajors\"].notna()]\n",
    "majors = [item[0] for major_univ in majors for item in major_univ]\n",
    "major_count = Counter(majors)\n",
    "#print(major_count)"
   ]
  },
  {
   "cell_type": "markdown",
   "id": "10baf895-53ad-41e1-8468-c03ad8cc9e00",
   "metadata": {
    "tags": []
   },
   "source": [
    "## Other Predictors\n",
    "Are there any other factors that correlate well with rank, despite not being used in the ranking calculation?"
   ]
  },
  {
   "cell_type": "markdown",
   "id": "191208d4-76fc-458b-8ed3-1094ca1dff85",
   "metadata": {},
   "source": [
    "### Nested Values\n",
    "\n",
    "TODO something something nested variables JSON normalize"
   ]
  },
  {
   "cell_type": "code",
   "execution_count": null,
   "id": "4a7f1244-9af8-4b46-9bbb-4f6a601de05d",
   "metadata": {},
   "outputs": [],
   "source": [
    "univ_df_num = univ_df.select_dtypes([np.number]).copy() # remove columns which are non-numeric\n",
    "univ_df_num.columns"
   ]
  },
  {
   "cell_type": "markdown",
   "id": "840f5fd6-f592-4840-b41a-f2349d1a3d5e",
   "metadata": {
    "tags": []
   },
   "source": [
    "### Non-Quantitative Data\n",
    "If we want to use the data to predict rankings, the easiest values to use are those with quantitative values as opposed to text values (it's possible to use categorical data for this regression, but that would take a lot of individual analysis for each of the variables, which should not be necessary to get a meaningful regression and result). "
   ]
  },
  {
   "cell_type": "markdown",
   "id": "62e3a206-fe3e-4ffc-a95f-cfd8c5252942",
   "metadata": {
    "tags": []
   },
   "source": [
    "### Missing Data "
   ]
  },
  {
   "cell_type": "markdown",
   "id": "8c8fe940-9156-4a31-9bbf-78b70cd479d3",
   "metadata": {},
   "source": [
    "In addition, there are many data values which have very few data points, meaning that most of the universities have a missing (NaN) value. Let's see how much that this is an issue by looking at the distribution of the number of NaNs."
   ]
  },
  {
   "cell_type": "code",
   "execution_count": null,
   "id": "308ae032-1e0b-4c2d-9f4a-676e7d28c013",
   "metadata": {},
   "outputs": [],
   "source": [
    "univ_df_num.dropna(subset=[\"vDisplayScoreInt\"], inplace=True) # remove all of the schools without a score \n",
    "df_nas = univ_df_num.isna().sum()\n",
    "ax = sns.histplot(df_nas, discrete=True)\n",
    "ax.set(xlabel=\"Number of Rows Missing Data\") "
   ]
  },
  {
   "cell_type": "markdown",
   "id": "1aba1fe6-1da5-43c5-a5f9-50fb6e9974ec",
   "metadata": {},
   "source": [
    "Most of the factors have no missing values, but there's a long tail where a large proportion of the row values are missing. \n",
    "We can also look at the percentage of values missing for each data. "
   ]
  },
  {
   "cell_type": "code",
   "execution_count": null,
   "id": "98776550-7953-49b6-9b34-3d737a4d32aa",
   "metadata": {},
   "outputs": [],
   "source": [
    "# Get the *percent* of rows with missing data\n",
    "df_nas[df_nas > 0].apply(lambda x: x/len(univ_df_norm)).sort_values().to_frame(name=\"Percent Missing\")"
   ]
  },
  {
   "cell_type": "markdown",
   "id": "30dce9ed-8566-4e1e-ad80-0c966fdae3b5",
   "metadata": {},
   "source": [
    "Most of the largest values are specific to certain categories of colleges; for example, a school won't have an `earlyDecAcceptRate` value if they don't allow early decision admissions. Data like this is **Missing At Random (MAR)**, meaning that we can predict whether it's missing based on other known factors. We will deal with these issues later.\n",
    "\n"
   ]
  },
  {
   "cell_type": "markdown",
   "id": "b8ce097c-e074-4822-8fc1-dd157e4ed71c",
   "metadata": {},
   "source": [
    "Since we're exploring, let's look at the correlation between all of the values, all put into a single heat map."
   ]
  },
  {
   "cell_type": "code",
   "execution_count": null,
   "id": "f8d86ab9-fba0-4b53-9659-ecdbe7af8afc",
   "metadata": {},
   "outputs": [],
   "source": [
    "corr = univ_df_norm.corr()\n",
    "fig, ax = plt.subplots(figsize=(15, 15))\n",
    "sns.heatmap(corr, center=0, cmap='coolwarm',\n",
    "            square=True, cbar_kws={\"shrink\": .3}, xticklabels=True, yticklabels=True)"
   ]
  },
  {
   "cell_type": "markdown",
   "id": "722b3ea7-2326-4b80-8b6b-10e77b7cf183",
   "metadata": {
    "tags": []
   },
   "source": [
    "### Imputation\n",
    "Since now we're looking at all of the numeric variables, now we need to consider how we will deal with the missing values. One solution would be to just drop it (like we did with the display scores), but that would mean losing out on a lot of valuable data and possibly bias the results. A more sophisticated solution is *multiple imputation*, where we create multiple data sets where the missing values have been substituted with guesses based on the distribution of the non-missing values, then calculate the regression on those data sets and combine them. "
   ]
  },
  {
   "cell_type": "code",
   "execution_count": null,
   "id": "e7ef2156-6274-4d1a-84aa-4c294c263845",
   "metadata": {},
   "outputs": [],
   "source": [
    "from statsmodels.imputation import mice\n",
    "\n",
    "# Create the formula for regression (use all other columns to predict score)\n",
    "x_vars = list(univ_df_norm.columns)\n",
    "x_vars.remove(\"vDisplayScoreInt\")\n",
    "fml = f\"vDisplayScoreInt ~ {' + '.join(x_vars)}\"\n",
    "\n",
    "imp = mice.MICEData(univ_df_norm)\n",
    "imp.update_all(20)\n",
    "imp.plot_imputed_hist(\"vGiBill\")"
   ]
  },
  {
   "cell_type": "markdown",
   "id": "18650d96-3d99-4f05-b52f-814815dd385d",
   "metadata": {},
   "source": [
    "(A very red cell means a strong positive correlation, while a very blue cell means a strong negative correlation.)\n",
    "\n",
    "Just looking at this (admittedly intimidating) graph tells us a lot about correlations. Many of these correlations are obvious -- for example, the four-year graduation rate directly correlates with the 6-year graduation rate, and measures by gender (e.g. female enrollment and sorority enrollment) also correlate well. One other correlations that stands out to me is the inverse relation between `pctPell` and `rCAvgPctGrad6Yr`:"
   ]
  },
  {
   "cell_type": "code",
   "execution_count": null,
   "id": "88d5d0d2-7746-4868-8f9d-45dcd6b1b6f8",
   "metadata": {},
   "outputs": [],
   "source": [
    "ax = sns.scatterplot(x=\"pctPell\", y=\"rCAvgPctGrad6Yr\", data=univ_df_num)\n",
    "ax.set(x=univ_key[\"pctPell\"], y=univ_key[\"rCAvgPctGrad6Yr\"])"
   ]
  },
  {
   "cell_type": "markdown",
   "id": "6044ccc2-849e-4b00-9f3e-0b3de7baf53d",
   "metadata": {},
   "source": [
    "One would ordinarily expect that "
   ]
  },
  {
   "cell_type": "code",
   "execution_count": null,
   "id": "c4f92974-9a78-41c8-ae64-fc685cb72713",
   "metadata": {},
   "outputs": [],
   "source": [
    "result = mice.MICE(fml, sm.OLS, imp).fit(20,20)\n",
    "result.summary()"
   ]
  },
  {
   "cell_type": "code",
   "execution_count": null,
   "id": "a5c8c16d-66a4-49b2-8c63-b4d2945d530c",
   "metadata": {},
   "outputs": [],
   "source": [
    "nan_threshold = 200 # arbitrary threshold of non-NaN values which are necessary in order to keep the variable\n",
    "univ_df_norm.dropna(axis=1, thresh=nan_threshold, inplace=True) # remove columns with too many missing values\n",
    "# TODO get rid of latitude, longitude, etc.\n",
    "univ_df_norm"
   ]
  },
  {
   "cell_type": "markdown",
   "id": "cc852651-e83a-44c9-8a6a-48d7b96f14da",
   "metadata": {},
   "source": [
    "**TODO Say Anything Else About This**"
   ]
  },
  {
   "cell_type": "code",
   "execution_count": null,
   "id": "36da4cd5-89d7-460b-b8c5-e63258f88867",
   "metadata": {},
   "outputs": [],
   "source": [
    "score_corrs = corr['vDisplayScoreInt'].sort_values()\n",
    "score_corrs.head(10)"
   ]
  },
  {
   "cell_type": "code",
   "execution_count": null,
   "id": "d94dd20f-a9f9-4657-93ea-4a79428eda33",
   "metadata": {},
   "outputs": [],
   "source": [
    "score_corrs.tail(10)"
   ]
  },
  {
   "cell_type": "markdown",
   "id": "d7b7335c-d7f3-48b2-aa0d-d6a4c2cb7b6c",
   "metadata": {},
   "source": [
    "Besides the already mentioned graduation rates (and ignoring the fact that score perfectly correlates with itself), we see two other factors that have a r-squared magnitude over 0.8: `gSat1600ScaleChart_satGridRng1600` (i.e. the percent of students that got a score of 1400-1600 on the SAT) and `rCAcceptRate` (the percent acceptance rate). "
   ]
  },
  {
   "cell_type": "markdown",
   "id": "24eafacb-67af-406d-bf87-5849f601449b",
   "metadata": {},
   "source": [
    "TODO Write about multivariate nonlinear model"
   ]
  },
  {
   "cell_type": "code",
   "execution_count": null,
   "id": "5d451a83-8f8f-4ca3-94be-0546ab23cff4",
   "metadata": {},
   "outputs": [],
   "source": [
    "# TODO right now, this is a linear model, which is not great \n",
    "x_vars = list(univ_df_num.columns)\n",
    "x_vars.remove(\"vDisplayScoreInt\")\n",
    "result = smf.ols(formula=f\"vDisplayScoreInt ~ {' + '.join(x_vars)}\", data=univ_df_num).fit()\n",
    "result.summary()"
   ]
  },
  {
   "cell_type": "code",
   "execution_count": null,
   "id": "15a1a0c3-6271-4ba3-8bb1-ffc7f965d469",
   "metadata": {},
   "outputs": [],
   "source": [
    "low_p_value_factors = [\"csAvgCostIncome_nptHi2\", \"vStudentFacultyRatio\", \"gSat1600ScaleChart_satGridRng1600\", \n",
    "                       \"gStudentsOnOffCampus_stuCatLiveOffCampusUg\", \"csAvgCost\", \"totalAllStudents\"] \n",
    "plot_factors_against_score(low_p_value_factors, 2, df=univ_df_norm)\n",
    "#sns.scatterplot(x=, y=\"vDisplayScoreInt\", data=univ_df_norm)\n",
    "#univ_df_norm[\"csAvgCostIncome_nptHi2\"]"
   ]
  },
  {
   "cell_type": "code",
   "execution_count": null,
   "id": "8c57275e-922e-4cca-bfd2-83747931e21a",
   "metadata": {},
   "outputs": [],
   "source": [
    "#\n",
    "#univ_df[\"vPctUnderMen\"]\n",
    "#pd.json_normalize(univ_df.loc[:,[\"gStudentGenderDistribution\",\"vDisplayScore\"]])\n",
    "#univ_df[\"gStudentGenderDistribution\"]\n",
    "\n",
    "#sns.scatterplot(x=\"vPctUnderMen\", y=\"vDisplayScore\", data=univ_df)"
   ]
  },
  {
   "cell_type": "markdown",
   "id": "e0768e74-ea22-4198-937d-e776515669be",
   "metadata": {},
   "source": [
    "[TODO]"
   ]
  },
  {
   "cell_type": "code",
   "execution_count": null,
   "id": "b76d9db9-45c9-4ba9-9770-e7098ac0cc30",
   "metadata": {},
   "outputs": [],
   "source": [
    "other_factors = [\"csAvgCost\", \"csTypicalDebt\", \"avgGradDebt\", \"vPrivateTuition\"] #\"pctPell\"]\n",
    "plot_factors_against_score(other_factors, 2)"
   ]
  },
  {
   "cell_type": "markdown",
   "id": "d734886d-5f12-4c5a-88e9-ed67c6eabe23",
   "metadata": {},
   "source": [
    "Interestingly, in this data, we can see there's a relationship between score and tuition/fees, but there's also a weak *inverse* linear correlations between loan indebtedness and school rank. In other words, people who go to more prestigious universities leave with *less* debt than their peers on average, despite the fact their schools have higher tuitions! \n",
    "\n",
    "There are multiple reasons this could be true -- it could be because they are more likely to get scholarships, either from the school or from external sources, or it could be that the students at higher-ranked universities are from families with more wealth than on average.  "
   ]
  },
  {
   "cell_type": "code",
   "execution_count": null,
   "id": "9e252ae0-ed3b-4087-8cf6-adfaaf588877",
   "metadata": {},
   "outputs": [],
   "source": [
    "other_factors = [\"totalUndergrads\", \"totalGradsAndPros\", \"stuCatFraternityUg\", \"stuCatSororityUg\"]\n",
    "plot_factors_against_score(other_factors, 2)"
   ]
  },
  {
   "cell_type": "markdown",
   "id": "b1ae4baf-ad28-4698-a3ae-62404a2c64b1",
   "metadata": {},
   "source": [
    "TODO: Remove the points where no fraternities or sororities"
   ]
  },
  {
   "cell_type": "markdown",
   "id": "5cc575b2-682e-4402-83aa-5e99695e87c5",
   "metadata": {
    "tags": []
   },
   "source": [
    "## Rank Versus Salary"
   ]
  },
  {
   "cell_type": "markdown",
   "id": "f468fa9c-2516-4b3c-b66b-adcf366d385d",
   "metadata": {},
   "source": [
    "First, let's ask a simple question: does the ranking done by US News correlate with other metrics of success, like starting salary? Unfortunately, because this scraper doesn't by itself get the data about average salary, I need to supplement this with another web scraper I wrote which directly reads from the webpage (**link**). "
   ]
  },
  {
   "cell_type": "code",
   "execution_count": null,
   "id": "241f81e3-668a-45f4-ac94-8508b9833062",
   "metadata": {},
   "outputs": [],
   "source": [
    "ax = sns.scatterplot(data=univ_df, x=\"payscaleOverallStarting\", y=\"vDisplayScore\")\n",
    "ax.set(title=\"Median Alumni Starting Salary vs University Scores\",xlabel=\"Median Salary of Recent Alumni (USD)\",ylabel=\"US News Score (0-100)\")"
   ]
  },
  {
   "cell_type": "code",
   "execution_count": null,
   "id": "174b8768-d78b-4ca2-8574-4d958ce45179",
   "metadata": {},
   "outputs": [],
   "source": [
    "ax = sns.scatterplot(data=univ_df, x=\"payscaleOverallStarting\", y=\"rCAvgPctGrad6Yr\")"
   ]
  },
  {
   "cell_type": "markdown",
   "id": "01bbca9b-7dc7-4693-8bcf-5f1945f4ebf8",
   "metadata": {},
   "source": [
    "We can see a decent positive linear correlation, as we'd expect.\n",
    "\n",
    "We can quantify the relationship with a predictive model:"
   ]
  },
  {
   "cell_type": "code",
   "execution_count": null,
   "id": "a5011bc8-b634-467a-a439-8e2474750ddb",
   "metadata": {},
   "outputs": [],
   "source": [
    "reg = smf.ols(\"vDisplayScore ~ payscaleOverallStarting\", data=univ_df).fit()\n",
    "reg.summary()"
   ]
  },
  {
   "cell_type": "markdown",
   "id": "3aaadc42-dabd-4c8c-a1d5-f0e87ca910d8",
   "metadata": {},
   "source": [
    "An r-squared of 0.518 means that there is some correlation, but it's not particularly strong."
   ]
  },
  {
   "cell_type": "markdown",
   "id": "5c559c40-d727-4214-bf36-2a4c551aaaa9",
   "metadata": {
    "tags": []
   },
   "source": [
    "#### Part 2.1.1: Considering Major\n",
    "\n",
    "However, the school one attends is obviously not the only factor that controls your salary. One huge factor is your field -- chemical engineers, on average, earn significantly more than English teachers. Fortunately, this data set also has data regarding the ten most popular majors in each university. Let's, for example, look at the most popular majors at the universities with the 10 highest and lowest average starting salaries:"
   ]
  },
  {
   "cell_type": "code",
   "execution_count": null,
   "id": "ee86ae9e-59ac-4288-aaae-0ecb14fd2c5b",
   "metadata": {},
   "outputs": [],
   "source": [
    "univ_df_sal_maj = univ_df[[\"topMajors\",\"payscaleOverallStarting\",\"displayName\"]].copy()\n",
    "univ_df_sal_maj = univ_df_sal_maj[univ_df_sal_maj[\"topMajors\"].map(lambda d: len(d) > 0)]\n",
    "univ_df_sal_maj.sort_values(\"payscaleOverallStarting\", inplace=True, ignore_index=True)\n",
    "\n",
    "pd.set_option('display.max_colwidth', None)\n",
    "univ_df_sal_maj.head(10)"
   ]
  },
  {
   "cell_type": "code",
   "execution_count": null,
   "id": "d50769a4-6686-496f-9231-4b3644dbe82e",
   "metadata": {},
   "outputs": [],
   "source": [
    "univ_df_sal_maj.tail(10)"
   ]
  },
  {
   "cell_type": "markdown",
   "id": "d5039b89-7395-4729-8261-12c8ecb31451",
   "metadata": {},
   "source": [
    "We can see generally, the highest-salary schools have high representation of computer science and engineering field, while there are a surprising number of Business degrees at the lowest-salaried universities. \n",
    "# TODO Use This Information Somehow"
   ]
  }
 ],
 "metadata": {
  "kernelspec": {
   "display_name": "Python 3 (ipykernel)",
   "language": "python",
   "name": "python3"
  },
  "language_info": {
   "codemirror_mode": {
    "name": "ipython",
    "version": 3
   },
   "file_extension": ".py",
   "mimetype": "text/x-python",
   "name": "python",
   "nbconvert_exporter": "python",
   "pygments_lexer": "ipython3",
   "version": "3.9.7"
  }
 },
 "nbformat": 4,
 "nbformat_minor": 5
}
