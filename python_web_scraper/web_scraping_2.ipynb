{
 "cells": [
  {
   "cell_type": "markdown",
   "id": "96193f00-b3c2-4260-bba2-4f87c53a8ae6",
   "metadata": {},
   "source": [
    "With the importance placed on getting a college degree nowadays ([65 percent of workers have at least some postsecondary education](https://cew.georgetown.edu/cew-reports/americas-divided-recovery/)), students more than ever need to focus on getting into colleges that will best help them achieve their goals. Sites like (US News)[https://www.usnews.com/best-colleges] have become the de-facto standard for students trying to search through hundreds of universities and deciding which is the best fit. Specifically, US News' ranking system is given enormous weight, influencing (how schools are perceived by the general public)[https://www.forbes.com/sites/robertzafft/2021/12/07/us-news-business-school-rankings-crucial-but-meaningless/].\n",
    "\n"
   ]
  },
  {
   "cell_type": "markdown",
   "id": "dc9396ed-bfce-4dd2-8cd8-82123396a41d",
   "metadata": {},
   "source": [
    "## Part 1: Web Scraping\n",
    "After spending 8 hours or so writing a web scraper to get all the components from the website, it turns out that each page provides JSON objects that contain all the data in a much easier to extract format."
   ]
  },
  {
   "cell_type": "code",
   "execution_count": 132,
   "id": "a95f4cd5-3fe1-4003-9841-94f29aa36e47",
   "metadata": {},
   "outputs": [],
   "source": [
    "from bs4 import BeautifulSoup\n",
    "\n",
    "html_doc = open(\"2022 Best National Universities US News Rankings.htm\", encoding=\"utf8\")\n",
    "soup = BeautifulSoup(html_doc, 'html.parser')"
   ]
  },
  {
   "cell_type": "code",
   "execution_count": 133,
   "id": "96db69bf-a223-4fc5-8c26-fcef9fb8f57e",
   "metadata": {},
   "outputs": [
    {
     "name": "stdout",
     "output_type": "stream",
     "text": [
      "['https://www.usnews.com/best-colleges/princeton-university-2627', 'https://www.usnews.com/best-colleges/columbia-university-2707', 'https://www.usnews.com/best-colleges/harvard-university-2155', 'https://www.usnews.com/best-colleges/massachusetts-institute-of-technology-2178', 'https://www.usnews.com/best-colleges/yale-university-1426', 'https://www.usnews.com/best-colleges/stanford-university-1305', 'https://www.usnews.com/best-colleges/university-of-chicago-1774', 'https://www.usnews.com/best-colleges/university-of-pennsylvania-3378', 'https://www.usnews.com/best-colleges/california-institute-of-technology-1131', 'https://www.usnews.com/best-colleges/duke-university-2920']\n",
      "392\n"
     ]
    }
   ],
   "source": [
    "anchors = soup.select('a[class*=\"card-name\"]')\n",
    "links = list(map(lambda x: x.get('href'), anchors))\n",
    "print(links[:10])\n",
    "print(len(links))"
   ]
  },
  {
   "cell_type": "code",
   "execution_count": 65,
   "id": "89d0b8bd-404f-456c-8479-315c6f778189",
   "metadata": {},
   "outputs": [],
   "source": [
    "from bs4 import BeautifulSoup\n",
    "import requests\n",
    "import pandas as pd\n",
    "import json\n",
    "\n",
    "link = \"https://www.usnews.com/best-colleges/princeton-university-2627\"\n",
    "\n",
    "def get_soup_obj(link, subpage):\n",
    "    url = link + \"/\" + subpage\n",
    "    agent = {\"User-Agent\":'Mozilla/5.0'}\n",
    "    response = requests.get(url, headers = agent)\n",
    "    return BeautifulSoup(response.text, 'html.parser')\n",
    "\n",
    "soup = get_soup_obj(link, \"student-life\")"
   ]
  },
  {
   "cell_type": "markdown",
   "id": "2fee66b2-0161-4339-90c9-e73077e71755",
   "metadata": {},
   "source": [
    "Then, we look at the structure of the HTML files and find the line in the script containing the JSON object, and extract it:"
   ]
  },
  {
   "cell_type": "code",
   "execution_count": 140,
   "id": "317c4d0b-b1f9-4034-9345-1143ec0f5538",
   "metadata": {},
   "outputs": [],
   "source": [
    "def get_json_from_soup(soup_obj):\n",
    "    script_json_line = soup_obj.find_all(\"script\")[-2].contents[0].split(\"\\n\")[4]\n",
    "    json_obj_str = script_json_line[script_json_line.find(\"{\"):-1].replace(\"undefined\",\"null\")\n",
    "    json_obj = json.loads(json_obj_str)\n",
    "        \n",
    "    base_key = 'src/containers/pages/education/higher-education/colleges/profile'\n",
    "    json_data = json_obj.get(f'{base_key}/overview.js',False) or \\\n",
    "                json_obj.get(f'{base_key}/generic.js',False) or \\\n",
    "                json_obj.get(f'{base_key}/rankings.js',None)\n",
    "    \n",
    "    #print(\"json_data: \" + str(json_data)[:20])\n",
    "    json_data = json_data['data']['context']['data']['page']\n",
    "    return json_data\n",
    "    #return {'schoolData': json_data['schoolData'], \n",
    "    #        'fields': json_data['fields'],\n",
    "    #        'schoolDetails': json_data['schoolDetails']}\n",
    "\n",
    "#print(get_json_from_soup(get_soup_obj(link,\"\")))"
   ]
  },
  {
   "cell_type": "markdown",
   "id": "ab74de37-43cc-4e75-b1a5-ad67696d3c4e",
   "metadata": {},
   "source": [
    "The 'fields' data indicates how the data is structured, the 'schoolData' field provides the values, and 'schoolDetails' provides basic info not in 'schoolData'.\n",
    "\n",
    "We can use these methods to get all the data from every university and put it in a single JSON object, with the university name as the key\""
   ]
  },
  {
   "cell_type": "code",
   "execution_count": null,
   "id": "8f71b103-eb60-4ea5-8875-6f8544f71532",
   "metadata": {},
   "outputs": [],
   "source": [
    "all_univ_json_data = {}\n",
    "pages = [\"\", \"overall-rankings\", \"applying\", \"academics\", \"student-life\", \"paying\", \"campus-info\"]\n",
    "for link in links:\n",
    "    json_out = {'fields': {}, 'data': {}}\n",
    "    for page in pages:\n",
    "        json_data_fields = get_json_from_soup(get_soup_obj(link,page))\n",
    "        #print(page + \"::\" + str(json_data_fields)[:20])\n",
    "        json_out['data'].update(json_data_fields['schoolData'])\n",
    "        json_out['fields'].update(json_data_fields['fields'])\n",
    "    json_out['details'] = get_json_from_soup(get_soup_obj(link,\"\"))['schoolDetails']\n",
    "    name = json_out['details']['displayName']\n",
    "    all_univ_json_data[name] = json_out\n",
    "    print(name)"
   ]
  },
  {
   "cell_type": "code",
   "execution_count": 155,
   "id": "48beacde-947b-4a94-bb95-a15a762686c1",
   "metadata": {},
   "outputs": [],
   "source": [
    "with open('all_univ.json', 'w') as outfile:\n",
    "    json.dump(all_univ_json_data, outfile)"
   ]
  },
  {
   "cell_type": "markdown",
   "id": "9c8bdea4-350d-4c57-b8d9-a420f6dce73f",
   "metadata": {},
   "source": [
    "## Part 2: Analysis"
   ]
  },
  {
   "cell_type": "code",
   "execution_count": 157,
   "id": "364b14c2-0051-4168-b799-c2cacb5daffc",
   "metadata": {},
   "outputs": [],
   "source": [
    "# Read in the university data\n",
    "with open('all_univ.json', 'r') as infile:\n",
    "    all_univ_json_data = json.load(infile)"
   ]
  },
  {
   "cell_type": "code",
   "execution_count": 211,
   "id": "4c004283-ba11-4571-a3ce-ffbda21b87f3",
   "metadata": {},
   "outputs": [
    {
     "name": "stdout",
     "output_type": "stream",
     "text": [
      "{\"payscaleOverallStarting\": null, \"topMajors\": [[\"Social Sciences\", 20], [\"Engineering\", 15], [\"Computer and Information Sciences and Support Services\", 12], [\"Biological and Biomedical Sciences\", 10], [\"Public Administration and Social Service Professions\", 9], [\"Physical Sciences\", 7], [\"History\", 6], [\"Foreign Languages, Literatures, and Linguistics\", 4], [\"English Language and Literature/Letters\", 3], [\"Philosophy and Religious Studies\", 3]], \"cSelectClass\": \"Most selective\", \"rCAcceptRate\": 6, \"applicationDeadline\": \"January 1\", \"actSatiLatestDate\": \"January 1\", \"gClassSizes\": {\"vClasses1\": 77.6, \"vClasses2\": 13.5, \"vClasses3\": 9}, \"vStudentFacultyRatio\": \"4:1\", \"gradRate4Year\": 90, \"gStudentGenderDistribution\": {\"vPctUnderMen\": 50, \"vPctUnderWomen\": 50}, \"vPctUnderMen\": null, \"vPctUnderWomen\": null, \"totalAllStudents\": 7852, \"association\": \"NCAA I\", \"g_financial_aid_statistics\": {\"pctApplyFinAid\": 73.1, \"pctNeedFullyMet\": 100, \"pctRecvAidFt\": 62, \"pctSelfHelpFt\": 4.7, \"avgPctNeedMetFt\": 100}, \"vPrivateTuition\": 56010, \"wRoomBoard\": 18180, \"regPctAllCars\": null, \"guiAddServIns\": \"Yes\", \"schoolStatementText\": null, \"schoolStatementUrl\": null, \"schoolStatementUpdateDateTime\": null, \"vDisplayScore\": 100, \"rCAvgPctGrad6Yr\": 97, \"pellGradRate\": 98, \"nonPellGradrate\": 98, \"rCPctClasses119\": 77.6, \"rCPctClassesGt50\": 9, \"speReqAdmIntReq\": \"Recommended\", \"vSatActPolicy\": \"Either SAT or ACT\", \"earlyDecPlanClose\": \"N/A\", \"applicationFee\": 70, \"commonAppYn\": \"Yes\", \"dlHousingDeposit\": null, \"earlyDecAcceptRate\": null, \"gSat1600ScaleChart\": {\"satGridRng599\": 0, \"satGridRng799\": 0, \"satGridRng999\": 0, \"satGridRng1199\": 0.61, \"satGridRng1399\": 13.24, \"satGridRng1600\": 86.15}, \"vTrfEnroll\": \"Fall\", \"trfAppMinNcreNum\": \"No\", \"trfMinGpaCol\": null, \"trfGuaranteedAdmYn\": \"No\", \"trfGuaranteedAdmUrl\": null, \"vIntCloDate\": [\"Fall - Jan. 1\"], \"intSepAppReqYesno\": \"No\", \"intAppCondAdmYn\": \"No\", \"vIntAppEdEaYn\": \"Early action only\", \"internationalTestReqToeflPaper\": \"Considered\", \"internationalTestReqToeflComputer\": \"Required of some\", \"internationalTestReqMichiganTest\": null, \"internationalTestReqIelts\": \"Required of some\", \"internationalTestReqSat\": \"Required\", \"internationalTestReqAct\": \"Required\", \"intrntnlAdvDepReqYn\": \"No\", \"toeflReplaceSat\": \"No\", \"vIntStuContact\": \"Alex Bustin, Senior Associate Dean of Admission, (609) 258-5287, abustin@princeton.edu\", \"vDgrOffIns\": \"Bachelor's, Master's, Doctorate - research/scholarship\", \"gCombDegrees\": [], \"vAcaOff5\": [\"First-year experiences - N/A\", \"Service learning - N/A\", \"Senior capstone or culminating academic experience - N/A\", \"Writing in the disciplines - N/A\", \"Undergraduate research/creative projects - N/A\"], \"offersObdProgramYn\": \"No\", \"gFtFacultyGenderDist\": {\"wPctFtFacMen\": 63.5, \"wPctFtFacWomen\": 36.5}, \"gPtFacultyGenderDist\": {\"wPctPtFacMen\": 54.8, \"wPctPtFacWomen\": 45.2}, \"eduGenReqYesno\": \"Yes\", \"uniQuaPerAcaYear\": \"Princeton is a world-class teaching and research university with a profound and distinctive commitment to undergraduate education and service. Through its commitment to ensuring all students can graduate with little or no debt, all students who are accepted can rely on Princeton's financial aid program to meet their financial need so they can attend and thrive at the University. More than ever, Princeton seeks to enroll the most talented students from a broad spectrum of cultural, ethnic and economic backgrounds. Students' experiences inside and outside the classroom prepare them for service, leadership and lifelong learning. Princeton emphasizes creativity, innovation and collaboration with a program of liberal arts in the humanities, arts, social sciences, natural sciences and engineering. Princeton's low student-to-faculty ratio means students are able to develop close working relationships with professors, who are leaders in their fields. We expect every faculty member to teach, and we expect every student to do original, creative research. Our approximately 5,300 undergraduate students are part of a vibrant campus community, and students stay connected to a Princeton community that spans the globe long after they have graduated. Students are encouraged to explore many academic and extracurricular opportunities while taking advantage of the University's extraordinary facilities and resources. We are a community of learning that is enriched by the varied experiences and perspectives of and engagement between our students, faculty and staff. Classrooms are filled with students and faculty from a wide range of backgrounds from across the country and around the world, and students benefit from the interdisciplinary connections at the core of Princeton's curriculum. We invite you to explore more about what makes Princeton special and contributes to the transformative experience that is a Princeton education.\", \"totalUndergrads\": 4773, \"totalGradsAndPros\": 3079, \"pctPell\": 22, \"gDegSeekStudentGenderDist\": {\"webPctMaleDegSeek\": 49, \"webPctFemaleDegSeek\": 51}, \"enrollmentMilitaryTotalCyPct\": 0.5, \"gStudentsOnOffCampus\": {\"pctUnderOnCampus\": 0, \"stuCatLiveOffCampusUg\": 0}, \"vHouOff\": [[\"coed dorms\", \"\"], [\"women's dorms\", \"\"], [\"men's dorms\", \"\"], [\"apartments for married students\", \"\"], [\"apartment for single students\", \"\"], [\"special housing for disabled students\", \"\"], [\"cooperative housing\", \"\"], [\"wellness housing\", \"\"], [\"other housing options\", \"\"]], \"gFraternityMembers\": {\"stuCatFraternityUg\": 0, \"stuCatNoFraternityUg\": 100}, \"gSororityMembers\": {\"stuCatSororityUg\": 0, \"stuCatNoSororityUg\": 100}, \"vRotcOffAirforce\": \"Offered at cooperating institution\", \"vRotcOffArmy\": \"Offered on campus\", \"vRotcOffNavy\": \"Offered at cooperating institution\", \"vInStateTuition\": null, \"vOutStateTuition\": null, \"csAvgCost\": 11317, \"csAvgCostIncome\": {\"nptLo\": 1386, \"nptMed1\": 2044, \"nptMed2\": 7576, \"nptHi1\": 16989, \"nptHi2\": 36747}, \"netPriceCalculator\": \"http://www.princeton.edu/admission/financialaid/estimator/\", \"giBillCertified\": \"Yes\", \"yellowRibbonParticipant\": \"Yes\", \"csTypicalDebt\": 10750, \"csTypicalDebtNograduate\": 6001, \"csTypicalDebtIncome\": {\"loIncDebtMdn\": 3865, \"mdIncDebtMdn\": 6001, \"hiIncDebtMdn\": 12000}, \"csTypicalLoanPayMonthly\": 103, \"csLoanRepayment\": null, \"csLoanRepaymentIncome\": {\"loIncRpy3yrRt\": null, \"mdIncRpy3yrRt\": null, \"hiIncRpy3yrRt\": null}, \"avgGradDebt\": 9623, \"pctIncuredDebt\": 17, \"nptLo\": null, \"nptMed1\": null, \"nptMed2\": null, \"nptHi1\": null, \"nptHi2\": null, \"vGiBill\": 0, \"csPctRcvFedLoan\": 3, \"csPctRcvFedLoanIncome\": {\"incPctLo\": null, \"incPctM1\": null, \"incPctM2\": null, \"incPctH1\": null, \"incPctH2\": null}, \"loIncDebtMdn\": null, \"mdIncDebtMdn\": null, \"hiIncDebtMdn\": null, \"loIncRpy3yrRt\": null, \"mdIncRpy3yrRt\": null, \"hiIncRpy3yrRt\": null, \"incPctLo\": null, \"incPctM1\": null, \"incPctM2\": null, \"incPctH1\": null, \"incPctH2\": null, \"envCamSize\": 600, \"regAlcPermYesno\": \"Yes\", \"vGuiServAva\": [\"on-campus job interviews\", \"internships\", \"resume assistance\", \"career/job search classes\", \"alumni network\", \"interest inventory\", \"interview training\"], \"vGuiAddServ\": [\"nonremedial tutoring\", \"women's center\", \"placement service\", \"day care\", \"health service\", \"health insurance\"], \"vGuiSaf\": [\"24-hour foot and vehicle patrols\", \"Late night transport/escort service\", \"24-hour emergency telephones\", \"Lighted pathways/sidewalks\", \"Controlled dormitory access (key, security card, etc.)\"], \"vComSchProvNet\": [], \"libSchCamYesno\": \"Yes\", \"libMusOther\": \"Art Museum with Permanent Collection, Museum of Natural History, Center for Energy and Environmental Studies, Plasma Physics Laboratory\", \"vProServAva\": [\"note-taking services\", \"learning center\", \"readers\", \"extended time for tests\", \"tutors\", \"substitution of courses\", \"typist/scribe\", \"exams on tape or computer\", \"other testing accommodations\"], \"vGuiSpePgm\": [\"note-taking services\", \"tape recorders\", \"special housing\", \"tutors\", \"adaptive equipment\", \"reader services\", \"braille services\", \"interpreters for hearing-impaired\", \"talking books\"], \"guidnceCmpsAcsblty\": \"Mostly\"}\n"
     ]
    }
   ],
   "source": [
    "key = {} # map between field keys and readable labels\n",
    "nested_fields = set()\n",
    "\n",
    "def create_field_label_key():\n",
    "    key = {}\n",
    "    # Iterate through fields, putting the labels and fieldNames into a dictionary for future reference\n",
    "    for field in all_univ_json_data['Princeton University']['fields'].values():\n",
    "        if field['isPublic'] and 'fieldName' in field:\n",
    "            key[field['fieldName']] = field['label']\n",
    "    return key    \n",
    "    \n",
    "def get_data_value(univ, field_name):\n",
    "    return univ['data'][field_name]['rawValue'] if 'rawValue' in univ['data'][field_name] else None\n",
    "    #print(f\"\\t\\t{subfield_label} ({field_data['fieldName']}): {subfield_data['rawValue']}\")\n",
    "\n",
    "def get_field_value(univ, field):\n",
    "    if 'subFields' in field:\n",
    "        subfields = {}\n",
    "        for subfield in field['subFields']:\n",
    "            subfield_fields = subfield['fields'] if \"fields\" in subfield else [subfield['field']] \n",
    "            for subfield_field in subfield_fields:\n",
    "                nested_fields.add(subfield_field)\n",
    "                subfields[subfield_field] = get_data_value(univ, subfield_field)\n",
    "        return subfields\n",
    "    else:\n",
    "        if field['fieldName'] not in nested_fields:\n",
    "            return get_data_value(univ, field['fieldName'])\n",
    "    \n",
    "univ_data = {}\n",
    "for univ in list(all_univ_json_data.values())[:1]:\n",
    "    #univ_data = {}\n",
    "    for field in univ['fields'].values():\n",
    "        if field['isPublic']: \n",
    "            univ_data[field['fieldName']] = get_field_value(univ, field)\n",
    "    print(json.dumps(univ_data))"
   ]
  },
  {
   "cell_type": "code",
   "execution_count": null,
   "id": "c2d91ef9-d7b1-48bc-8989-7dbb32425433",
   "metadata": {},
   "outputs": [],
   "source": []
  }
 ],
 "metadata": {
  "kernelspec": {
   "display_name": "Python 3 (ipykernel)",
   "language": "python",
   "name": "python3"
  },
  "language_info": {
   "codemirror_mode": {
    "name": "ipython",
    "version": 3
   },
   "file_extension": ".py",
   "mimetype": "text/x-python",
   "name": "python",
   "nbconvert_exporter": "python",
   "pygments_lexer": "ipython3",
   "version": "3.9.7"
  }
 },
 "nbformat": 4,
 "nbformat_minor": 5
}
